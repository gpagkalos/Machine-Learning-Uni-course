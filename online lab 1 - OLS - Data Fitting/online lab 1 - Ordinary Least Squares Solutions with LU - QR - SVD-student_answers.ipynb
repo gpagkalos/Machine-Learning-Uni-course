{
 "cells": [
  {
   "cell_type": "markdown",
   "metadata": {},
   "source": [
    "# online lab 1 - OLS\n",
    "\n",
    "This project is meant to revisit some concepts from linear algebra you have already encountered in the past. It is also designed to help you get accustomed with Jupyter and Python 3.\n",
    "\n",
    "\n",
    "\n",
    "## Anaconda\n",
    "\n",
    "Before you start, make sure you install the [Anaconda](https://www.anaconda.com/download) Python distribution, which contains essentially all of the code you will need for this course. Please do not use other installations of Python, and install the version for Python 3, not Python 2. Also, if you install new Python packages later on, do not mix package installation methods, unless you know very thoroughly what you are doing (for instance, do not use `pip` to install new software, only use `conda`). This will save you big headaches as the semester progresses.\n",
    "\n",
    "\n",
    "### Working with Cells\n",
    "\n",
    "A _cell_ is a block of content. There are a few different types of cell, but we will be concerned mainly with `Markdown` cells and `Code` cells. The former contain text, including mathematics, and the latter contain snippets of code (Python 3 for us, although notebooks can deal with any programming language).\n",
    "\n",
    "When you run a `Markdown` cell, its contents are formatted and displayed. A `Markdown` cell can also contain straight HTML code. However, there won't be any need for this in this course.\n",
    "\n",
    "When you run a `Code` cell, the code in it is executed in the current _kernel_, and any output from it is displayed after the cell. Any object created during execution (variables, function definitions,...) remains alive in the kernel, so you can assign a value to a variable in one cell and access it in a later cell. You can do various things to the kernel, such as restart it, interrupt it, and so forth. Please browse the `Kernel` menu at the top of the page.\n",
    "\n",
    "To make, edit, delete, run, and do several other things to and with cells, you use the commands in the `Edit`, `View`, `Insert`, `Cell` menus. Look at these menus and try out some of the commands. The icons just below the menus are shortcuts for some of the more common commands.\n",
    "\n",
    "In `Markdown` cells, all text except mathematics is formatted with _Markdown_ syntax, a simplified document annotation language. The mathematics is enclosed between dollar signs when it is inline with the text like the equation $\\frac{de^x}{dx} = e^x$, and between double dollar signs when it is displayed in the middle of a line on its own, like this:\n",
    "\n",
    "$$\\int_0^{\\infty} e^{x} dx = 1$$\n",
    "\n",
    "(look at the source of this text to see how this works). The easiest way to figure our how Markdown and LaTeX work is to look at the source of this notebook to see how text and math were composed, and how code was entered.\n",
    "\n",
    "> For your reference, here is [a list of Markdown syntax elements](https://www.markdownguide.org/cheat-sheet/)\n",
    ">\n",
    "> For your reference, here is [a list of LaTeX commands for mathematics](https://en.wikibooks.org/wiki/LaTeX/Mathematics)\n",
    "\n",
    "After you make changes to a cell, you can see the results of your changes by selecting `Cell->Run Cells` or `Cell->Run All`. The first command runs only the cell you are in, or the cells you select. The second command runs all the cells in the notebook. The `Run` button in the menu bar is a shortcut for `Cell->Run Cells`.\n",
    "\n",
    "\n"
   ]
  },
  {
   "cell_type": "markdown",
   "metadata": {},
   "source": [
    "## Fitting Polynomials\n",
    "\n",
    "You will fit a degree-$k$ polynomial\n",
    "$$ h(x) = c_0 + c_1 x + \\ldots + c_k x^k $$\n",
    "for various values of $k$ to a set\n",
    "$$ T = \\{(x_0, y_0), \\ldots, (x_{N-1}, y_{N-1}) \\}$$\n",
    "of data samples, each sample containing two real numbers. We number the $N$ samples from $0$ to $N-1$ rather than from $1$ to $N$ to avoid confusion with Python-style subscripts, which start at $0$. Note that a polynomial of degree $k$ has $k+1$ coefficients.\n",
    "\n",
    "To review the theory, the goal is to pick the vector\n",
    "$$ \\mathbf{c} = [c_0, \\ldots, c_k]^T $$\n",
    "of coefficients that minimize the _quadratic risk_\n",
    "$$L_T(\\mathbf{c}) = \\sum_{n=0}^{N-1} [y_n - h(x_n)]^2\\;.$$\n",
    "In the expression for $\\mathbf{c}$ above, the $T$ superscript denotes transposition, so we think of $\\mathbf{c}$ as a column vector.\n",
    "\n",
    "When this problem is solved, the sample $(x_n, y_n)$ yields the following _linear_ equation in the unknowns:\n",
    "$$ c_0 1 + c_1 x_n + \\ldots + c_k x_n^k = y_n $$\n",
    "which can be written in vector form as follows:\n",
    "$$ \\mathbf{x}_n^T \\mathbf{c} = y_n $$\n",
    "where we define\n",
    "$$ \\mathbf{x}_n = [1, x_n, \\ldots, x_n^k]^T \\;.$$\n",
    "\n",
    "We can now form the $N\\times (k+1)$ matrix and $N\\times 1$ vector\n",
    "$$ A = \\left[\\begin{array}{c} \\mathbf{x}_0^T\\\\\\vdots\\\\\\mathbf{x}_{N-1}^T \\end{array}\\right] \\;\\;\\;\\text{and}\\;\\;\\;\n",
    "\\mathbf{a} = \\left[\\begin{array}{c} y_0\\\\\\vdots\\\\y_{N-1} \\end{array}\\right] $$\n",
    "and write the linear system\n",
    "$$ A \\mathbf{c} = \\mathbf{a} $$\n",
    "of $N$ equations in $k+1$ unknowns, to be solved in the least-squares sense:\n",
    "$$\\widehat{\\mathbf{c}} \\;\\in\\; \\arg\\min_{\\mathbf{c}} \\|A \\mathbf{c} - \\mathbf{a}\\|^2\\;.$$\n",
    "This system may be under-determined, exact ($A$ is square and full rank), or over-determined, so it may admit zero, one, or infinitely many solutions."
   ]
  },
  {
   "cell_type": "markdown",
   "metadata": {},
   "source": [
    "### Part 1: The Under-Determined Case\n",
    "\n",
    "Let $N = 1$ and $k = 1$, so that we are fitting a straight line to one sample point $(x_0, y_0)$. There are infinitely many lines through a single point, so we expect infinitely many solutions."
   ]
  },
  {
   "cell_type": "markdown",
   "metadata": {
    "tags": [
     "question"
    ]
   },
   "source": [
    "---\n",
    "#### Problem 1.1\n",
    "\n",
    "> Spell out the system $$A \\mathbf{c} = \\mathbf{a}$$ for this special case."
   ]
  },
  {
   "cell_type": "markdown",
   "metadata": {},
   "source": [
    "That is, write out the equation explicitly in terms of $x_0$, $y_0$, $c_0$, and $c_1$. Do _not_ use matrix notation."
   ]
  },
  {
   "cell_type": "markdown",
   "metadata": {},
   "source": [
    "####  answer 1.1 :     $\\space\\space y_0 = c_0 + c_1 x_0 $"
   ]
  },
  {
   "cell_type": "markdown",
   "metadata": {
    "tags": [
     "question"
    ]
   },
   "source": [
    "---\n",
    "#### Problem 1.2\n",
    "\n",
    "> Give expressions for two different possible solutions $\\mathbf{c}$ to this equation in terms of $x_0$ and $y_0$."
   ]
  },
  {
   "cell_type": "markdown",
   "metadata": {},
   "source": [
    "There are infinitely many correct answers (and even more wrong ones!), just pick two easy ones. Make sure that your expressions work even if $x_0$ or $y_0$ (or both) are zero."
   ]
  },
  {
   "cell_type": "markdown",
   "metadata": {},
   "source": [
    "#### answer 1.2  :\n",
    "$ c_1 = 0 $ , $c_0 = y_0 \\space $   and    $\\space c_1 = 1 \\space,\\space c_0 = y_0 - x_0 $ "
   ]
  },
  {
   "cell_type": "markdown",
   "metadata": {
    "tags": [
     "question"
    ]
   },
   "source": [
    "---\n",
    "#### Problem 1.3\n",
    "\n",
    "> Write and run Python code to draw, in a single plot, the two lines corresponding to the two solutions you gave when $$(x_0, y_0) = (2, 1).$$"
   ]
  },
  {
   "cell_type": "markdown",
   "metadata": {},
   "source": [
    "To help you, the plotting function `show` is defined for you, and is written so that it will work also for more complex cases later on. The function `show` takes `numpy` vectors `x` and `y`, which together represent a training set $T$, and a list `cList` of `numpy` vectors of polynomial coefficients. It then plots the training points as well as each polynomial in the list. For this problem, `x` and `y` contain a single number each, and `cList` contains the two vectors $\\mathbf{c}'$ and $\\mathbf{c}''$. A commented-out example is given for how the function is to be called for this problem, with just one (arbitrary) vector $\\mathbf{c}$ in the list."
   ]
  },
  {
   "cell_type": "code",
   "execution_count": 4,
   "metadata": {
    "scrolled": true,
    "tags": [
     "question"
    ]
   },
   "outputs": [
    {
     "data": {
      "image/png": "[encoded data removed]",
      "text/plain": [
       "<Figure size 432x288 with 1 Axes>"
      ]
     },
     "metadata": {
      "needs_background": "light"
     },
     "output_type": "display_data"
    }
   ],
   "source": [
    "import numpy as np\n",
    "import matplotlib.pyplot as plt\n",
    "\n",
    "def show(x, y, cList = []):\n",
    "    plt.ion()\n",
    "    plt.plot(x, y, marker='.', markersize=12, ls='')\n",
    "    npt = 100\n",
    "    xrange = [x - 1, x + 1] if x.size == 1 else [np.amin(x), np.amax(x)]\n",
    "    xFine = np.linspace(xrange[0], xrange[1], npt)\n",
    "    \n",
    "    for c in cList:\n",
    "        nc = c.size\n",
    "        ycFine = np.zeros(xFine.shape)\n",
    "        xPow = np.ones(xFine.shape)\n",
    "        for i in range(nc):\n",
    "            ycFine += c.item(i) * xPow\n",
    "            xPow *= xFine\n",
    "        plt.plot(xFine, ycFine, label = 'degree ' + str(nc-1))\n",
    "    plt.xlabel('x')\n",
    "    plt.ylabel('y')\n",
    "    plt.legend()\n",
    "    plt.show()\n",
    "    \n",
    "# Usage example\n",
    "p = [2, 1]\n",
    "show(np.array(p[0]), np.array(p[1]), [np.array([1, 1])])"
   ]
  },
  {
   "cell_type": "markdown",
   "metadata": {},
   "source": [
    "####  answer 1.3 :"
   ]
  },
  {
   "cell_type": "code",
   "execution_count": 3,
   "metadata": {},
   "outputs": [
    {
     "data": {
      "image/png": "[encoded data removed]",
      "text/plain": [
       "<Figure size 432x288 with 1 Axes>"
      ]
     },
     "metadata": {
      "needs_background": "light"
     },
     "output_type": "display_data"
    }
   ],
   "source": [
    "p=[2,1]\n",
    "show (np.array(p[0]),np.array(p[1]),[np.array([1,0]),np.array([-1, 1])])"
   ]
  },
  {
   "cell_type": "markdown",
   "metadata": {},
   "source": [
    "##### Programming Note:\n",
    "\n",
    "You may wonder why the code above says `c.item(i)` rather than `c[i]`. The reason is that the latter version will not work when `nc`$=1$. In that case, `c` is what `numpy` calls a \"zero-dimensional array\", and therefore it expects zero subscripts, while the expression `c[i]` uses one subscript. The notation `c.item(i)` works even in that case.\n",
    "\n",
    "Some may argue that this is a bug rather than a feature of the `numpy` package. While expecting a number of subscripts equal to the number of dimensions is a good concept, the behavior with zero-dimensional arrays often surprises programmers with unexpected error messages (`IndexError: too many indices for array`)."
   ]
  },
  {
   "cell_type": "markdown",
   "metadata": {},
   "source": [
    "### Part 2: Interpolation\n",
    "\n",
    "Let us now consider the case $N = 2$ and $k = 1$: Fitting a straight line to two points $(x_0, y_0)$ and $(x_1, y_1)$. We assume that the line is not vertical, that is, that\n",
    "$$x_0 \\neq x_1 \\;,$$\n",
    "so that it can be written in the form\n",
    "$$ c_0 + c_1 x = y \\;.$$\n",
    "There is one such line, so we expect exactly one solution. You may remember from geometry that the line between these two points has equation\n",
    "$$ y - y_0 = \\frac{y_1 - y_0}{x_1 - x_0}\\ (x - x_0) $$"
   ]
  },
  {
   "cell_type": "markdown",
   "metadata": {
    "tags": [
     "question"
    ]
   },
   "source": [
    "---\n",
    "#### Problem 2.1\n",
    "\n",
    "> Derive this last equation from the system\n",
    "> $$A\\mathbf{c} = \\mathbf{a}$$\n",
    "> spelled out for this special case."
   ]
  },
  {
   "cell_type": "markdown",
   "metadata": {},
   "source": [
    "\n",
    "Specifically, spell out this system for $N = 2$ and $k = 1$, similarly to what you did earlier, and solve the system by Gaussian elimination and back-substitution. Plug the values of $c_0$ and $c_1$ into the line equation and rearrange the resulting expression to derive the second equation for the line given above. Show your work."
   ]
  },
  {
   "cell_type": "markdown",
   "metadata": {},
   "source": [
    "####   answer 2.1 :\n",
    "* Gaussian elimination and back-substitution:\n",
    "\n",
    "\\begin{equation} \\begin{matrix} c_1 x_0 + c_0 = y_0 \\\\ c_1 x_1 + c_0 = y_1 \\end{matrix} \\Leftrightarrow \\begin{matrix} c_1 x_0 + c_0 = y_0 \\\\ \\frac{c_1 x_0 c_1 x_1}{c_1 x_1} + \\frac{c_1 x_0}{c_1 x_1} c_0 = \\frac{c_1 x_0}{c_1 x_1} y_1 \\end{matrix} \\Leftrightarrow \\begin{matrix} c_1 x_0 + c_0 = y_0 \\\\ 0 + \\frac{x_0}{x_1} c_0 -c_0 = \\frac{x_0}{x_1} y_1 -y_0\\end{matrix} \\Leftrightarrow \\begin{matrix} c_1 x_0 + c_0 = y_0 \\\\ 0 + (x_0 - x_1) c_0 = x_0 y_1 - x_1 y_0\\end{matrix} \\Leftrightarrow \\begin{matrix} c_1 x_0 + c_0 = y_0 \\\\ c_0 = \\frac{x_0 y_1 - x_1 y_0}{x_0 - x_1}\\end{matrix} \\Leftrightarrow \\begin{matrix} c_1 = \\frac{y_0}{x_0} - \\frac{x_0 y_1 - x_1 y_0}{x_0(x_0 - x_1)}\\\\ c_0 = \\frac{x_0 y_1 - x_1 y_0}{x_0 - x_1}\\end{matrix} \\end{equation} \n",
    "* Pluging the values of $c_0$ and $c_1$ in the above equation:\n",
    "\n",
    "\\begin{equation} c_0 +c_1 x = y \\Leftrightarrow  \\frac{x_0 y_1 - x_1 y_0}{x_0 - x_1} +\\frac{y_0}{x_0}x - \\frac{x_0 y_1 - x_1 y_0}{x_0(x_0 - x_1)}x = y \\Leftrightarrow \\\\ \\\\ \\Leftrightarrow x_0^2 y_1 - x_1 x_0 y_0 + y_0(x_0 - x_1) - (x_0 y_1 -x_1 y_0)x = x_0(x_0 -x_1)y \\Leftrightarrow \\\\ \\Leftrightarrow  x_0^2 y_1 - x_1 x_0 y_0 + y_0 x_0 - y_0 x_1 - x_0 y_1 x - x_1 y_0 x = x_0^2 y - x_1 x_0 y \\Leftrightarrow \\\\ \\\\ \\Leftrightarrow yx_1 - y_0 x_1 - y x_0 = y_1 x -y_0 x -x_0 y_1 \\Leftrightarrow \\\\ \\\\ \\Leftrightarrow yx_1 - y_0 x_1 - y x_0 +y_0 x_0 = y_1 x -y_0 x -x_0 y_1+y_0 x_0 \\Leftrightarrow (y - y_0) x_1 +(y_0-y) x_0 = (y_1  -y_0)x + (y_0 -y_1) x_0 \\Leftrightarrow \\\\ \\\\ \\Leftrightarrow (y - y_0) (x_1 - x_0) = (y_1  -y_0)(x - x_0) \\Leftrightarrow \\\\ \\Leftrightarrow y - y_0 =  \\frac{y_1  -y_0}{x_1 - x_0}(x - x_0)\\end{equation}\n"
   ]
  },
  {
   "cell_type": "markdown",
   "metadata": {},
   "source": [
    "### Part 3: The Over-Determined Case\n",
    "\n",
    "Finally, let us consider the over-determined case through an example with $N = 3$ and $k=1$: Fitting a straight line to three points.\n",
    "\n",
    "We want to write the line in the form\n",
    "$$ c_0 + c_1 x = y $$\n",
    "and therefore we must assume that $x_0, x_1, x_2$ are not all equal to each other (or else the line would be vertical).\n",
    "\n",
    "Then the matrix $A$ is full rank. The system admits an exact solution only if the three points happen to be aligned. We want a more general solution, so we solve the system in the Least-Squares sense.\n",
    "\n",
    "Recall from linear algebra that the unique Least-Squares solution to the over-determined, full-rank system\n",
    "$$A \\mathbf{c} = \\mathbf{a}$$\n",
    "is the solution to the _normal equations_\n",
    "$$ A^T A \\mathbf{c} = A^T \\mathbf{a} \\;.$$\n",
    "\n",
    "The key advantage of this system over the original one is that the matrix $A^T A$ is full rank (because $A$ is full rank), and can therefore be inverted. In our case, the matrix $A^T A$ is $2\\times 2$, so we can invert it by hand.\n",
    "\n",
    "To simplify the notation in the manipulations that follow, make the following definitions:\n",
    "\n",
    "\\begin{eqnarray*}\n",
    "X &=& \\sum_{n=0}^{N-1} x_n \\\\\n",
    "Y &=& \\sum_{n=0}^{N-1} y_n \\\\\n",
    "S &=& \\sum_{n=0}^{N-1} x_n^2 \\\\\n",
    "P &=& \\sum_{n=0}^{N-1} x_n y_n\n",
    "\\end{eqnarray*}\n"
   ]
  },
  {
   "cell_type": "markdown",
   "metadata": {
    "tags": [
     "question"
    ]
   },
   "source": [
    "---\n",
    "#### Problem 3.1\n",
    "\n",
    "> Write the matrix $A^T A$ and vector $A^T \\mathbf{a}$ in terms of $N, X, Y, S, P$ for the special case $k=1$."
   ]
  },
  {
   "cell_type": "markdown",
   "metadata": {},
   "source": [
    "The value of $N$ does not matter, since $N$ is hidden by the definitions above."
   ]
  },
  {
   "cell_type": "markdown",
   "metadata": {},
   "source": [
    "####  answer 3.1 :\n",
    "\n",
    "\n",
    "* \n",
    "\n",
    "             \n",
    "\\begin{equation} A^T A = \\begin{bmatrix} x_0 & x_1 & \\dots & x_n\\\\ 1 & 1 & \\dots & 1 \\end{bmatrix}\\begin{bmatrix} x_0 & 1 \\\\ x_1 & 1 \\\\ \\vdots & \\vdots \\\\ x_n & 1 \\end{bmatrix} = \\begin{bmatrix} \\sum_{n=0}^{N-1} x_n^2 & \\sum_{n=0}^{N-1} x_n\\\\ \\sum_{n=0}^{N-1} x_n & N \\cdot 1 \\end{bmatrix} = \\begin{bmatrix} S & X \\\\ X & N \\end{bmatrix}\\end{equation}\n",
    "           \n",
    "*             \n",
    "\n",
    "\\begin{equation} A^T \\mathbf{a} = \\begin{bmatrix} x_0 & x_1 & \\dots & x_n \\\\ 1 & 1 & \\dots & 1 \\end{bmatrix}\\begin{bmatrix} y_0 \\\\ y_1 \\\\ \\vdots \\\\y_n \\end{bmatrix} = \\begin{bmatrix} \\sum_{n=0}^{N-1} x_n y_n \\\\ \\sum_{n=0}^{N-1} y_n \\end{bmatrix} = \\begin{bmatrix} P \\\\ Y \\end{bmatrix}  \\end{equation}"
   ]
  },
  {
   "cell_type": "markdown",
   "metadata": {
    "tags": [
     "question"
    ]
   },
   "source": [
    "---\n",
    "#### Problem 3.2\n",
    "\n",
    "> Find expressions for $c_0$ and $c_1$ in terms of $N, X, Y, S, P$ by solving the normal equations. Recall that\n",
    "> $$\\left[\\begin{array}{cc}a & b\\\\c & d \\end{array}\\right]^{-1} \\;=\\; \n",
    "\\frac{1}{ad-bc}\\ \\left[\\begin{array}{rr}d & -b\\\\-c & a \\end{array}\\right]$$"
   ]
  },
  {
   "cell_type": "markdown",
   "metadata": {},
   "source": [
    "#### answer 3.2 :\n",
    "\\begin{equation} A^T A \\mathbf{c} = A^T \\mathbf{a} \\Leftrightarrow \\begin{bmatrix} S & X \\\\ X & N \\end{bmatrix} \\begin{bmatrix} c_1 \\\\ c_0\\end{bmatrix}=\\begin{bmatrix} P \\\\ Y \\end{bmatrix} \\Leftrightarrow \\begin{bmatrix} c_1 \\\\ c_0\\end{bmatrix}= \\frac{1}{SN-X^2}\\ \\begin{bmatrix} N &-X \\\\ -X & S\\end{bmatrix}\\begin{bmatrix} P \\\\ Y \\end{bmatrix} \\Leftrightarrow \\begin{bmatrix} c_1 \\\\ c_0\\end{bmatrix}= \\frac{1}{SN-X^2}\\ \\begin{bmatrix} PN-XY \\\\ -PX + SY\\end{bmatrix}\\end{equation}\n",
    "\n",
    "(student's remark: those are the values of slope and intercept from linear regression)"
   ]
  },
  {
   "cell_type": "markdown",
   "metadata": {
    "tags": [
     "question"
    ]
   },
   "source": [
    "---\n",
    "#### Problem 3.3\n",
    "\n",
    "> Use the function `show` given earlier to display the three points $(0, -1), (1, 1), (3, 0)$ and the line fit to them with the formulas you just found for $c_0$ and $c_1$."
   ]
  },
  {
   "cell_type": "markdown",
   "metadata": {},
   "source": [
    "Show your code, the numerical values of $c_0$ and $c_1$ with three decimal digits after the period, and the resulting figure.\n",
    "\n",
    "(Hint: It's less error prone to use Python to compute and print $c_0$ and $c_1$, but if you want to do that by hand that's OK, too.)"
   ]
  },
  {
   "cell_type": "markdown",
   "metadata": {},
   "source": [
    "#### answer 3.3 :"
   ]
  },
  {
   "cell_type": "code",
   "execution_count": 4,
   "metadata": {},
   "outputs": [
    {
     "data": {
      "image/png": "[encoded data removed]",
      "text/plain": [
       "<Figure size 432x288 with 1 Axes>"
      ]
     },
     "metadata": {
      "needs_background": "light"
     },
     "output_type": "display_data"
    },
    {
     "name": "stdout",
     "output_type": "stream",
     "text": [
      "[-0.2857142857142857, 0.21428571428571427]\n"
     ]
    }
   ],
   "source": [
    "p1=[0,-1]\n",
    "p2=[1,1]\n",
    "p3=[3,0]\n",
    "X=p1[0]+p2[0]+p3[0]\n",
    "Y=p1[1]+p2[1]+p3[1]\n",
    "S=p1[0]**2+p2[0]**2+p3[0]**2\n",
    "P=p1[0]*p1[1]+p2[0]*p2[1]+p3[0]*p3[1]\n",
    "N=3\n",
    "c1=(P*N-X*Y)/(S*N-X**2)\n",
    "c0=(-P*X+S*Y)/(S*N-X**2)\n",
    "show (np.array([p1[0],p2[0],p3[0]]),np.array([p1[1],p2[1],p3[1]]),[np.array([c0, c1])])\n",
    "print([c0,c1])"
   ]
  },
  {
   "cell_type": "markdown",
   "metadata": {},
   "source": [
    "### Programming Aside: Data Input and List Comprehensions\n",
    "\n",
    "**If you are comfortable with Python 3 and `numpy`, you may skip this section.**\n",
    "\n",
    "Let us first load the data set $T$ from file `T.txt` into a `numpy` array. We use the `loadtxt` function to load the data, since `T.txt` is a text file with two numbers per row.\n",
    "\n",
    "Read the [documentation of `loadtxt`](https://docs.scipy.org/doc/numpy/reference/generated/numpy.loadtxt.html). Do this for other functions as well, we won't keep telling you. Google is your friend.\n",
    "\n",
    "Let's also assume that we want to fit a quadratic polynomial ($k = 2$), and that we want to assemble the matrix $A$."
   ]
  },
  {
   "cell_type": "code",
   "execution_count": 5,
   "metadata": {
    "scrolled": true
   },
   "outputs": [],
   "source": [
    "x, y = np.loadtxt('T.txt', unpack=True)\n",
    "N, k = len(y), 2"
   ]
  },
  {
   "cell_type": "markdown",
   "metadata": {},
   "source": [
    "The `unpack` flag transposes the array, so that every item in even position (starting at 0) in the original array, that is all items in the first row of the transposed array, goes into `x` and every other item goes into `y`. A `numpy` vector makes no distinction between row and column vectors, so there is no need to transpose the results `x` and `y`.\n",
    "\n",
    "For later reference, `N` is the number of samples and `k` is the degree of the desired polynomial.\n",
    "\n",
    "If all works well, you should see no result. To check what happened you could display the pair `(x, y)` with the following command (parentheses are not needed, but can be added without consequence):"
   ]
  },
  {
   "cell_type": "code",
   "execution_count": 6,
   "metadata": {
    "scrolled": true
   },
   "outputs": [
    {
     "data": {
      "text/plain": [
       "(array([0.   , 0.111, 0.222, 0.333, 0.444, 0.556, 0.667, 0.778, 0.889,\n",
       "        1.   ]),\n",
       " array([2.03 , 3.606, 4.266, 3.132, 3.4  , 2.3  , 1.768, 0.934, 1.534,\n",
       "        2.7  ]))"
      ]
     },
     "execution_count": 6,
     "metadata": {},
     "output_type": "execute_result"
    }
   ],
   "source": [
    "x, y"
   ]
  },
  {
   "cell_type": "markdown",
   "metadata": {},
   "source": [
    "To make the array $A$, list comprehensions come in handy. The code below makes the desired array as a Python list of lists (no `numpy`) and uses the result to initialize a `numpy` array."
   ]
  },
  {
   "cell_type": "code",
   "execution_count": 7,
   "metadata": {
    "scrolled": true
   },
   "outputs": [
    {
     "data": {
      "text/plain": [
       "array([[1.      , 0.      , 0.      ],\n",
       "       [1.      , 0.111   , 0.012321],\n",
       "       [1.      , 0.222   , 0.049284],\n",
       "       [1.      , 0.333   , 0.110889],\n",
       "       [1.      , 0.444   , 0.197136],\n",
       "       [1.      , 0.556   , 0.309136],\n",
       "       [1.      , 0.667   , 0.444889],\n",
       "       [1.      , 0.778   , 0.605284],\n",
       "       [1.      , 0.889   , 0.790321],\n",
       "       [1.      , 1.      , 1.      ]])"
      ]
     },
     "execution_count": 7,
     "metadata": {},
     "output_type": "execute_result"
    }
   ],
   "source": [
    "A = np.array([[x.item(i) ** j for j in range(k+1)] for i in range(N)])\n",
    "A"
   ]
  },
  {
   "cell_type": "markdown",
   "metadata": {},
   "source": [
    "If list comprehensions confuse you, just use `for` loops, but the code becomes more complicated and less efficient:"
   ]
  },
  {
   "cell_type": "code",
   "execution_count": 8,
   "metadata": {
    "scrolled": true
   },
   "outputs": [
    {
     "data": {
      "text/plain": [
       "array([[1.      , 0.      , 0.      ],\n",
       "       [1.      , 0.111   , 0.012321],\n",
       "       [1.      , 0.222   , 0.049284],\n",
       "       [1.      , 0.333   , 0.110889],\n",
       "       [1.      , 0.444   , 0.197136],\n",
       "       [1.      , 0.556   , 0.309136],\n",
       "       [1.      , 0.667   , 0.444889],\n",
       "       [1.      , 0.778   , 0.605284],\n",
       "       [1.      , 0.889   , 0.790321],\n",
       "       [1.      , 1.      , 1.      ]])"
      ]
     },
     "execution_count": 8,
     "metadata": {},
     "output_type": "execute_result"
    }
   ],
   "source": [
    "A = np.zeros((N, k+1))\n",
    "for i in range(N):\n",
    "    for j in range(k+1):\n",
    "        A[i, j] = x.item(i) ** j\n",
    "A"
   ]
  },
  {
   "cell_type": "markdown",
   "metadata": {},
   "source": [
    "The result is the same.\n",
    "\n",
    "Initially, a good way to understand list comprehensions is to first write the loop version, then rewrite it \"inside out\" as a comprehension."
   ]
  },
  {
   "cell_type": "markdown",
   "metadata": {},
   "source": [
    "### Part 4: Numerical Data Fitting\n",
    "\n",
    "The examples in the previous parts were useful to refresh your memory about basic concepts from linear algebra, and to understand when a polynomial fitting problem has 0, 1, or infinitely many solutions. When the degree of the polynomial is greater than 1, however, calculations by hand become impractical or impossible.\n",
    "\n",
    "Instead, we always solve the linear system\n",
    "$$\n",
    "A \\mathbf{c} = \\mathbf{a}\n",
    "$$\n",
    "in the Least-Square sense (that is, as a minimization problem), and we always use a numerical package. When there is exactly one solution, we obtain just that (the \"least square\" is 0). When there are infinitely many solutions, we obtain one of them, and which one we get depends on the solution method used.\n",
    "\n",
    "A good way to make the solution unique in all cases is to stipulate that whenever multiple solutions are available the one of _minimum norm_ is returned. \"Norm\" here refers to the Euclidean norm of the vector $\\mathbf{c}$. The function `numpy.linalg.lstsq` returns the minimum-norm solution when multiple solutions exist, and it achieves this result by using the singular value decomposition of $A$."
   ]
  },
  {
   "cell_type": "markdown",
   "metadata": {
    "tags": [
     "question"
    ]
   },
   "source": [
    "---\n",
    "#### Problem 4.1\n",
    "\n",
    "> In problem 1.3 you found two different solutions to a data fitting problem. Let us call the corresponding coefficient vectors $\\mathbf{c}$ and $\\mathbf{d}$. Write the values of $\\mathbf{c}$ and $\\mathbf{d}$, and report their norms. Which is smaller?"
   ]
  },
  {
   "cell_type": "markdown",
   "metadata": {},
   "source": [
    "Your answer may vary, as it depends on which lines you came up with in 1.3. If you write code (computation by hand is OK, too), you may want to use `numpy.linalg.norm` to compute the norm of `numpy` arrays."
   ]
  },
  {
   "cell_type": "markdown",
   "metadata": {},
   "source": [
    "#### answer 4.1 :"
   ]
  },
  {
   "cell_type": "code",
   "execution_count": 9,
   "metadata": {},
   "outputs": [
    {
     "name": "stdout",
     "output_type": "stream",
     "text": [
      "1.0\n",
      "1.4142135623730951\n"
     ]
    }
   ],
   "source": [
    "c=np.array([1,0])\n",
    "d=np.array([-1,1])\n",
    "print(np.linalg.norm(c))\n",
    "print(np.linalg.norm(d))"
   ]
  },
  {
   "cell_type": "markdown",
   "metadata": {},
   "source": [
    "$ \\mathbf{c} = \\begin{bmatrix} 0 \\\\ 1\\end{bmatrix} $     ,   has a smaller norm value."
   ]
  },
  {
   "cell_type": "markdown",
   "metadata": {
    "tags": [
     "question"
    ]
   },
   "source": [
    "---\n",
    "#### Problem 4.2\n",
    "\n",
    "> Write a function with header\n",
    ">\n",
    ">    `def fit(x, y, k):`\n",
    ">\n",
    "> that fits a polynomial of degree `k` to the data in `x` and `y`."
   ]
  },
  {
   "cell_type": "markdown",
   "metadata": {},
   "source": [
    "This function takes `numpy` vectors `x` and `y` with $N$ coordinates each and a degree `k` (a nonnegative integer), and returns a `numpy` vector `c` with the coefficients of the polynomial of degree `k` that fits the points `(x[n], y[n])` best in the Least-Squares sense. The vector of coefficients should have minimum norm when multiple solutions are available, so use `numpy.linalg.lstsq`. Show your code.\n",
    "\n",
    "##### Programming Notes\n",
    "\n",
    "To solve the linear system $A\\mathbf{c} = \\mathbf{a}$, call `numpy.linalg.lstsq` as follows:\n",
    "\n",
    "    c = np.linalg.lstsq(A, a, rcond=None)[0]\n",
    "    \n",
    "The `rcond=None` option silences a warning message that has to do with the matrix condition number. The `[0]` at the end picks only the first out of four different data structures returned by the function. We don't need the other three in this assignment.\n",
    "\n",
    "Your code should work also when `k` is zero (fitting a constant), so make sure you use `.item(i)` rather than `[i]` for indexing `numpy` arrays wherever the issue described in the programming note after Problem 1.3 is relevant.\n",
    "\n",
    "Your code should also work when a single point is passed (so that `x.size` and `y.size` are equal to $N=1$). This corner case reveals another quirk of `numpy`. Specifically, the matrix $A$ in that case has a single row (and is possibly a single number if $k=0$ as well). However, `numpy.linalg.lstsq` expects its first argument to be a two-dimensional array, while we now have a zero- or one-dimensional array. This will raise an error when the function is called if you use `np.array` to hold your data.\n",
    "\n",
    "Instead, use `np.matrix`, which distinguishes between row vectors and column vectors, and handles low-dimensional matrices more gracefully for linear algebra applications. We pass `np.array` arguments to `fit` because these are the more commonly used containers and are more convenient to use in several ways. Because of this, you need to cast `np.array` objects to `np.matrix` objects inside `fit`. If `arr` is an `np.array`, just say\n",
    "\n",
    "    mat = np.matrix(arr)\n",
    "    \n",
    "to make a matrix `mat` out of it. If `arr` is a one-dimensional array, to make sure that the corresponding matrix has a single _column_, rather than a single row, you need to explicitly reshape the result:\n",
    "\n",
    "    col = np.reshape(np.matrix(arr), [arr.size, 1])"
   ]
  },
  {
   "cell_type": "markdown",
   "metadata": {},
   "source": [
    "#### answer 4.2 :"
   ]
  },
  {
   "cell_type": "code",
   "execution_count": 10,
   "metadata": {},
   "outputs": [],
   "source": [
    "def fit(x, y, k):\n",
    "    N=x.size\n",
    "    if(N==1):\n",
    "        x=np.matrix(x)\n",
    "        y=np.matrix(y)\n",
    "    A = np.array([[x.item(i) ** j for j in range(k+1)] for i in range(N)])\n",
    "    c = np.linalg.lstsq(A, y, rcond=None)[0]\n",
    "    c = np.reshape(np.matrix(c), [c.size, 1])\n",
    "    return(c)"
   ]
  },
  {
   "cell_type": "markdown",
   "metadata": {
    "tags": [
     "question"
    ]
   },
   "source": [
    "---\n",
    "#### Problem 4.3\n",
    "\n",
    "> Show the plot and output obtained with the following code, where `fit` is your function. The file `T.txt` should be in the same directory as your notebook."
   ]
  },
  {
   "cell_type": "markdown",
   "metadata": {},
   "source": [
    "#### answer 4.3 :"
   ]
  },
  {
   "cell_type": "code",
   "execution_count": 11,
   "metadata": {
    "scrolled": true,
    "tags": [
     "question"
    ]
   },
   "outputs": [
    {
     "data": {
      "image/png": "[encoded data removed]",
      "text/plain": [
       "<Figure size 432x288 with 1 Axes>"
      ]
     },
     "metadata": {
      "needs_background": "light"
     },
     "output_type": "display_data"
    },
    {
     "name": "stdout",
     "output_type": "stream",
     "text": [
      "[[ 0.200  0.400]]\n"
     ]
    }
   ],
   "source": [
    "try:\n",
    "    p13 = {'x' : np.array(2), 'y' : np.array(1), 'k' : [1]}\n",
    "\n",
    "    np.set_printoptions(formatter={'float': '{: .3f}'.format})\n",
    "\n",
    "    def run(p):\n",
    "        x, y = p['x'], p['y']\n",
    "        cList = [fit(x, y, k) for k in p['k']]\n",
    "        show(x, y, cList)\n",
    "        for c in cList:\n",
    "            print(c.T)\n",
    "            \n",
    "    run(p13)\n",
    "except NameError:\n",
    "    pass\n"
   ]
  },
  {
   "cell_type": "markdown",
   "metadata": {
    "tags": [
     "question"
    ]
   },
   "source": [
    "---\n",
    "#### Problem 4.4\n",
    "\n",
    "> What is the approximate norm of the solution (to three decimal digits), and is this result consistent with your results in problem 1.3? Why or why not?"
   ]
  },
  {
   "cell_type": "markdown",
   "metadata": {},
   "source": [
    "#### answer 4.4 :"
   ]
  },
  {
   "cell_type": "code",
   "execution_count": 12,
   "metadata": {},
   "outputs": [
    {
     "name": "stdout",
     "output_type": "stream",
     "text": [
      "0.447\n"
     ]
    }
   ],
   "source": [
    "print(float(\"{0:.3f}\".format(np.linalg.norm([0.2,0.4]))))"
   ]
  },
  {
   "cell_type": "markdown",
   "metadata": {},
   "source": [
    "This norm value is much smaller than the norms of 1.3 . This is because of the function numpy.linalg.lstsq, which returns the minimum-norm solution."
   ]
  },
  {
   "cell_type": "markdown",
   "metadata": {
    "tags": [
     "question"
    ]
   },
   "source": [
    "---\n",
    "#### Problem 4.5\n",
    "\n",
    "> a. Show the plots and outputs obtained with the code below, and answer the following questions:\n",
    ">\n",
    "> b. Are the plot and value of $\\mathbf{c}$  from the data in `p33` consistent with your answer to problem 3.3?\n",
    ">\n",
    "> c. Give a brief qualitative description of the way(s) in which the curves in the plot from the data in `notes` differ from the curves in Figure 1 of the [notes on data fitting](DataFitting.pdf). The plots in that Figure were computed from the same ten points as in `T.txt` but with a different numerical package."
   ]
  },
  {
   "cell_type": "markdown",
   "metadata": {},
   "source": [
    "#### answer 4.5 a)"
   ]
  },
  {
   "cell_type": "code",
   "execution_count": 13,
   "metadata": {
    "tags": [
     "question"
    ]
   },
   "outputs": [
    {
     "data": {
      "image/png": "[encoded data removed]",
      "text/plain": [
       "<Figure size 432x288 with 1 Axes>"
      ]
     },
     "metadata": {
      "needs_background": "light"
     },
     "output_type": "display_data"
    },
    {
     "name": "stdout",
     "output_type": "stream",
     "text": [
      "[[-0.286  0.214]]\n"
     ]
    },
    {
     "data": {
      "image/png": "[encoded data removed]",
      "text/plain": [
       "<Figure size 432x288 with 1 Axes>"
      ]
     },
     "metadata": {
      "needs_background": "light"
     },
     "output_type": "display_data"
    },
    {
     "name": "stdout",
     "output_type": "stream",
     "text": [
      "[[ 3.394 -1.655]]\n",
      "[[ 2.089  18.049 -49.900  32.440]]\n",
      "[[ 2.030 -292.804  7046.148 -62434.420  285853.947 -759114.988\n",
      "   1214741.224 -1155128.463  601089.629 -131759.602]]\n"
     ]
    }
   ],
   "source": [
    "try:\n",
    "    p33 = {'x' : np.array([0, 1, 3]), 'y' : np.array([-1, 1, 0]), 'k' : [1]}\n",
    "\n",
    "    x, y = np.loadtxt('T.txt', unpack=True)\n",
    "    notes = {'x' :x, 'y' : y, 'k' : [1, 3, 9]}\n",
    "\n",
    "    run(p33)\n",
    "    run(notes)\n",
    "except NameError:\n",
    "    pass"
   ]
  },
  {
   "cell_type": "markdown",
   "metadata": {},
   "source": [
    "#### answer 4.5 b)"
   ]
  },
  {
   "cell_type": "markdown",
   "metadata": {},
   "source": [
    "Yes, the plot and $\\mathbf{c}$ are the same as in the answers of Problem 3.3 "
   ]
  },
  {
   "cell_type": "markdown",
   "metadata": {},
   "source": [
    "#### answer 4.5 c)"
   ]
  },
  {
   "cell_type": "markdown",
   "metadata": {},
   "source": [
    "The plots dont seem to differ ."
   ]
  },
  {
   "cell_type": "markdown",
   "metadata": {},
   "source": [
    "\\begin{exercise}\n",
    "Consider the function $f(x) = \\frac{1}{1+x^2}$ defined in the interval $[-5,5]$. Write a python program to approximate this function in least squares sense with polynomials $n = 3, 7, 15, 21$ considering 60 uniform points in its interval of definition.\n",
    "\n",
    "1) Form the normal equations of the LS solution and solve it using LU decomposition.\n",
    "\n",
    "2) Solve the overdetermined system of LS equations using QR and SVD methods\n",
    "\n",
    "3) For each solution method of OLS plot the polynomial in the same graph\n",
    "\n",
    "4) Compute and plot the errors in the same graph for each method.\n",
    "\n",
    "5) Explain the results.\n",
    "\n",
    "\\end{exercise}\n"
   ]
  },
  {
   "cell_type": "markdown",
   "metadata": {},
   "source": [
    "#### answers :"
   ]
  },
  {
   "cell_type": "code",
   "execution_count": 28,
   "metadata": {},
   "outputs": [
    {
     "data": {
      "image/png": "[encoded data removed]",
      "text/plain": [
       "<Figure size 432x288 with 1 Axes>"
      ]
     },
     "metadata": {
      "needs_background": "light"
     },
     "output_type": "display_data"
    }
   ],
   "source": [
    "import scipy.linalg\n",
    "from matplotlib import pyplot\n",
    "\n",
    "# exercise 1\n",
    "\n",
    "def funct(x):\n",
    "    return(1/(1+x**2))\n",
    "\n",
    "def show_edit(x, y, cList = []):\n",
    "    plt.ion()\n",
    "    plt.plot(x, y, marker='.', markersize=12, ls='')\n",
    "    npt = 100\n",
    "    xrange = [x - 1, x + 1] if x.size == 1 else [np.amin(x), np.amax(x)]\n",
    "    xFine = np.linspace(xrange[0], xrange[1], npt)\n",
    "    cvector=1\n",
    "    for c in cList:\n",
    "        nc = c.size\n",
    "        ycFine = np.zeros(xFine.shape)\n",
    "        xPow = np.ones(xFine.shape)\n",
    "        for i in range(nc):\n",
    "            ycFine += c.item(i) * xPow\n",
    "            xPow *= xFine\n",
    "        plt.plot(xFine, ycFine, label = 'c' + str(cvector) + ' degree ' + str(nc-1))\n",
    "        cvector=cvector+1\n",
    "    plt.xlabel('x')\n",
    "    plt.ylabel('y')\n",
    "    plt.legend()\n",
    "    plt.show()\n",
    "    \n",
    "def uniform_points():\n",
    "    \n",
    "    count = (-4.916)\n",
    "    i=0\n",
    "    xvl=np.zeros(60)\n",
    "    yvl=np.zeros(60)\n",
    "\n",
    "    while (count<=5):\n",
    "\n",
    "        xvl[i]=np.array([count])\n",
    "        yvl[i]=np.array([funct(count)])\n",
    "        count=count+0.168\n",
    "        i=i+1\n",
    "    i=0\n",
    "    return(xvl,yvl)\n",
    "\n",
    "    \n",
    "def exercises123(k,xvl,yvl):\n",
    "\n",
    "     # forming the normal equations \n",
    "    A = np.array([[xvl.item(i) ** j for j in range(k+1)] for i in range(xvl.size)])\n",
    "    A=np.fliplr(A)\n",
    "    #print(A)\n",
    "    A_transpose = A.transpose()\n",
    "    A_TA= np.dot(A_transpose,A)\n",
    "    b=np.dot(A_transpose,yvl)\n",
    "    # solving using LU decomposition\n",
    "    P,L,U=scipy.linalg.lu(A_TA)\n",
    "    c1=np.dot(np.linalg.inv(P),b)\n",
    "    c1=np.dot(np.linalg.inv(L),c1)\n",
    "    c1=np.dot(np.linalg.inv(U),c1)\n",
    "    c1=np.flip(c1)\n",
    "    c1=np.reshape(np.matrix(c1), [c1.size, 1])\n",
    "    \n",
    "    \n",
    "    # exercise 2\n",
    "    \n",
    "    # solving using QR \n",
    "    Q,R=np.linalg.qr(A)\n",
    "    Q_transpose=Q.transpose()\n",
    "    c2=np.dot(Q_transpose,yvl)\n",
    "    c2=np.dot(np.linalg.inv(R),c2)\n",
    "    c2=np.flip(c2)\n",
    "    c2=np.reshape(np.matrix(c2), [c2.size, 1])\n",
    "    # solving using SVD\n",
    "    X_plus=np.linalg.pinv(A)\n",
    "    c3=np.dot(X_plus,yvl)\n",
    "    c3=np.flip(c3)\n",
    "    c3=np.reshape(np.matrix(c3), [c3.size, 1])\n",
    "    \n",
    "    \n",
    "    #returns c vectors for each method \n",
    "    return(c1,c2,c3)\n",
    "\n",
    "# exercise 3\n",
    "\n",
    "xvl,yvl=uniform_points()\n",
    "\n",
    "c1,c2,c3=exercises123(21,xvl,yvl) \n",
    "# 21 above is the value of k , try with k= 3,5,15 also.\n",
    "\n",
    "show_edit(xvl,yvl, [c1,c2,c3])\n"
   ]
  },
  {
   "cell_type": "code",
   "execution_count": 30,
   "metadata": {},
   "outputs": [
    {
     "data": {
      "image/png": "[encoded data removed]",
      "text/plain": [
       "<Figure size 432x288 with 1 Axes>"
      ]
     },
     "metadata": {
      "needs_background": "light"
     },
     "output_type": "display_data"
    }
   ],
   "source": [
    "#exercise 4\n",
    "\n",
    "c1,c2,c3=exercises123(21,xvl,yvl) # c1,c2,c3 for values of k\n",
    "\n",
    "def pyplot_errors(cvector,c,xvl,yvl,color):\n",
    "    xrange = [xvl - 1, xvl + 1] if x.size == 1 else [np.amin(xvl), np.amax(xvl)]\n",
    "    nc = c.size\n",
    "    ycFine = np.zeros(xvl.shape)\n",
    "    xPow = np.ones(xvl.shape)\n",
    "    for i in range(nc):\n",
    "        ycFine += c.item(i) * xPow\n",
    "        xPow *= xvl\n",
    "    zero=np.zeros(xvl.size)\n",
    "    errors=yvl-ycFine\n",
    "    pyplot.plot(xvl,errors,label = 'c' + str(cvector) + ' errors',color=str(color))\n",
    "    pyplot.plot(xvl,zero,'black')\n",
    "    return(errors)\n",
    "\n",
    "pyplot_errors(1,c1,xvl,yvl,'yellow')\n",
    "pyplot_errors(2,c2,xvl,yvl,'green')\n",
    "pyplot_errors(3,c3,xvl,yvl,'red')\n",
    "pyplot.legend()\n",
    "pyplot.show()\n"
   ]
  },
  {
   "cell_type": "markdown",
   "metadata": {},
   "source": [
    "\\# exercise 5\n",
    "\n",
    "In the exercises above, we have applied the LU, QR and SVD factorizations in order to solve the least squares problem. As is already known the LU method is the fastest but least numericly stable. On the contrary the SVD method is the most stable algorithm but also the slowest one. In general the SVD and QR approach are to be prefered. Specifically the results we have obtained, suggest that its the SVD factorization that provides the best approximation, followed closely by the QR factorization. We also observe that it is difficult to choose a k (polynomial degree) which would result in the best fit, there is even a case where the SVD fails for a large value of k."
   ]
  },
  {
   "cell_type": "markdown",
   "metadata": {},
   "source": [
    "### Linear Ordinary Least Squares (OLS) Example"
   ]
  },
  {
   "cell_type": "code",
   "execution_count": 16,
   "metadata": {},
   "outputs": [
    {
     "data": {
      "image/png": "[encoded data removed]",
      "text/plain": [
       "<Figure size 432x288 with 1 Axes>"
      ]
     },
     "metadata": {
      "needs_background": "light"
     },
     "output_type": "display_data"
    }
   ],
   "source": [
    "import matplotlib.pyplot as plt\n",
    "import numpy as np\n",
    "\n",
    "bill = [34,108,64,88,99,51]\n",
    "tip =  [5,17,11,8,14,5]  \n",
    "plt.scatter(bill, tip)\n",
    "\n",
    "#fit function\n",
    "f = lambda x: 0.1462*x - 0.8188\n",
    "# x values of line to plot\n",
    "x = np.array([0,100])\n",
    "# plot fit\n",
    "plt.plot(x,f(x),lw=2.5, c=\"k\",label=\"fit line between 0 and 100\")\n",
    "\n",
    "#better take min and max of x values\n",
    "x = np.array([min(bill),max(bill)])\n",
    "plt.plot(x,f(x), c=\"orange\", label=\"fit line between min and max\")\n",
    "\n",
    "plt.legend()\n",
    "plt.show()"
   ]
  }
 ],
 "metadata": {
  "kernelspec": {
   "display_name": "Python 3",
   "language": "python",
   "name": "python3"
  },
  "language_info": {
   "codemirror_mode": {
    "name": "ipython",
    "version": 3
   },
   "file_extension": ".py",
   "mimetype": "text/x-python",
   "name": "python",
   "nbconvert_exporter": "python",
   "pygments_lexer": "ipython3",
   "version": "3.8.3"
  },
  "latex_envs": {
   "LaTeX_envs_menu_present": true,
   "autoclose": false,
   "autocomplete": true,
   "bibliofile": "biblio.bib",
   "cite_by": "apalike",
   "current_citInitial": 1,
   "eqLabelWithNumbers": true,
   "eqNumInitial": 1,
   "hotkeys": {
    "equation": "Ctrl-E",
    "itemize": "Ctrl-I"
   },
   "labels_anchors": false,
   "latex_user_defs": false,
   "report_style_numbering": false,
   "user_envs_cfg": false
  },
  "nbTranslate": {
   "displayLangs": [
    "*"
   ],
   "hotkey": "alt-t",
   "langInMainMenu": true,
   "sourceLang": "en",
   "targetLang": "fr",
   "useGoogleTranslate": true
  },
  "toc": {
   "base_numbering": 1,
   "nav_menu": {},
   "number_sections": true,
   "sideBar": true,
   "skip_h1_title": false,
   "title_cell": "Table of Contents",
   "title_sidebar": "Contents",
   "toc_cell": false,
   "toc_position": {},
   "toc_section_display": true,
   "toc_window_display": false
  }
 },
 "nbformat": 4,
 "nbformat_minor": 2
}
