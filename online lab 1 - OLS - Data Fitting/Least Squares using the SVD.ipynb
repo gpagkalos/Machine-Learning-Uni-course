{
 "cells": [
  {
   "cell_type": "markdown",
   "metadata": {},
   "source": [
    "# Least Squares using the SVD"
   ]
  },
  {
   "cell_type": "code",
   "execution_count": 4,
   "metadata": {},
   "outputs": [],
   "source": [
    "import numpy as np\n",
    "import numpy.linalg as la\n",
    "import scipy.linalg as spla"
   ]
  },
  {
   "cell_type": "code",
   "execution_count": 12,
   "metadata": {},
   "outputs": [],
   "source": [
    "# tall and skinny w/nullspace\n",
    "np.random.seed(12)\n",
    "A = np.random.randn(6, 4)\n",
    "b = np.random.randn(6)\n",
    "A[3] = A[4] + A[5]\n",
    "A[1] = A[5] + A[1]\n",
    "A[2] = A[3] + A[1]\n",
    "A[0] = A[3] + A[1]"
   ]
  },
  {
   "cell_type": "markdown",
   "metadata": {},
   "source": [
    "### Part I: Singular least squares using QR\n",
    "\n",
    "Solve: $Ax= b$\n",
    "\n",
    "QR factorization of A: $A = QR$ \n",
    "where $Q$ is orthogonal ($Q^TQ = I$) and  $R$ upper triagular.\n",
    "\n",
    "From above properties, we get\n",
    "\t\n",
    "$Α = QR$ \\( \\rightarrow \\) $Q^TA=Q^TQR $ \\( \\rightarrow \\) $Q^TA = IR$ \\( \\rightarrow \\)$R = Q^TA $\n",
    "\n",
    "Έχουμε $Αx = b$ \\( \\rightarrow \\) $QRx= b $ \\( \\rightarrow \\) $Q^TQRx= Q^Tb $ \\( \\rightarrow \\) $Rx= Q^Tb $\n",
    "\n",
    "$\\mathbf{Q}^{\\mathbf{T}} \\mathbf{A}=\\mathbf{Q}^{\\mathbf{T}} \\mathbf{Q} \\mathbf{R}=\\mathbf{D} \\mathbf{R}$\n",
    "\n",
    "Let's see how successfully we can solve the least squares problem **when the matrix has a nullspace** using QR.\n",
    "\n",
    "**The Nullspace of a Matrix**\n",
    "\n",
    "The solution sets of homogeneous linear systems provide an important source of vector spaces. Let $A$ be an m by n matrix, and consider the homogeneous system  $A \\mathbf{x}=\\mathbf{0}$. Since $A$ is m by n, the set of all vectors x which satisfy this equation forms a subset of $R^n$ . (This subset is nonempty, since it clearly contains the zero vector: $x = 0$ always satisfies $A x = 0$.) This subset actually forms a subspace of $R^n$ , called the nullspace of the matrix $A$ and denoted $N(A)$. To prove that $N(A)$ is a subspace of $R^n$, closure under both addition and scalar multiplication must be established.\n"
   ]
  },
  {
   "cell_type": "code",
   "execution_count": 14,
   "metadata": {},
   "outputs": [],
   "source": [
    "Q, R = la.qr(A)"
   ]
  },
  {
   "cell_type": "code",
   "execution_count": 17,
   "metadata": {},
   "outputs": [
    {
     "data": {
      "text/plain": [
       "array([[-4.526,  3.492, -0.204, -3.647],\n",
       "       [ 0.   ,  0.796,  0.034,  0.603],\n",
       "       [ 0.   ,  0.   , -1.459,  0.674],\n",
       "       [ 0.   ,  0.   ,  0.   ,  0.   ]])"
      ]
     },
     "execution_count": 17,
     "metadata": {},
     "output_type": "execute_result"
    }
   ],
   "source": [
    "R.round(3)"
   ]
  },
  {
   "cell_type": "markdown",
   "metadata": {},
   "source": [
    "We can choose `x_qr[3]` as we please:"
   ]
  },
  {
   "cell_type": "code",
   "execution_count": 42,
   "metadata": {},
   "outputs": [],
   "source": [
    "x_qr = np.zeros(A.shape[1])"
   ]
  },
  {
   "cell_type": "code",
   "execution_count": 55,
   "metadata": {},
   "outputs": [
    {
     "name": "stdout",
     "output_type": "stream",
     "text": [
      "[[-0.61188743 -0.04283489 -0.09151134  0.77169406]\n",
      " [-0.27729009 -0.53684417 -0.41637733 -0.29285956]\n",
      " [-0.61188743 -0.04283489 -0.09151134 -0.4788345 ]\n",
      " [-0.33459734  0.49400928  0.32486599 -0.29894001]\n",
      " [-0.22371086 -0.16655366  0.73321071  0.00608045]\n",
      " [-0.11088649  0.66056294 -0.40834472  0.00608045]] \n",
      " [[-0.61188743 -0.04283489 -0.09151134  0.77169406]\n",
      " [-0.27729009 -0.53684417 -0.41637733 -0.29285956]\n",
      " [-0.61188743 -0.04283489 -0.09151134 -0.4788345 ]] \n",
      " [ 0.77169406 -0.29285956 -0.4788345 ]\n"
     ]
    }
   ],
   "source": [
    "x_qr[3] = 5\n",
    "print(Q,\"\\n\", Q[:3],\"\\n\", Q[:3,3])"
   ]
  },
  {
   "cell_type": "code",
   "execution_count": 32,
   "metadata": {},
   "outputs": [],
   "source": [
    "QTbnew = Q.T.dot(b)[:3,] - R[:3, 3] * x_qr[3]\n",
    "x_qr[:3] = spla.solve_triangular(R[:3,:3], QTbnew, lower=False)"
   ]
  },
  {
   "cell_type": "markdown",
   "metadata": {},
   "source": [
    "Let's take a look at the residual norm and the norm of `x_qr`:"
   ]
  },
  {
   "cell_type": "code",
   "execution_count": 33,
   "metadata": {},
   "outputs": [
    {
     "data": {
      "text/plain": [
       "array([ 0.00000000e+00,  0.00000000e+00, -1.11022302e-16, -1.07977253e+00])"
      ]
     },
     "execution_count": 33,
     "metadata": {},
     "output_type": "execute_result"
    }
   ],
   "source": [
    "R.dot(x_qr)-Q.T.dot(b)[:4]"
   ]
  },
  {
   "cell_type": "code",
   "execution_count": 34,
   "metadata": {},
   "outputs": [
    {
     "data": {
      "text/plain": [
       "2.126715288803098"
      ]
     },
     "execution_count": 34,
     "metadata": {},
     "output_type": "execute_result"
    }
   ],
   "source": [
    "la.norm(A.dot(x_qr)-b, 2)"
   ]
  },
  {
   "cell_type": "code",
   "execution_count": 35,
   "metadata": {},
   "outputs": [
    {
     "data": {
      "text/plain": [
       "0.8239351297413158"
      ]
     },
     "execution_count": 35,
     "metadata": {},
     "output_type": "execute_result"
    }
   ],
   "source": [
    "la.norm(x_qr, 2)"
   ]
  },
  {
   "cell_type": "markdown",
   "metadata": {},
   "source": [
    "Choose a different `x_qr[3]` and compare residual and norm of `x_qr`."
   ]
  },
  {
   "cell_type": "markdown",
   "metadata": {},
   "source": [
    "residual and norm have larger values for a random `x_qr[3]`"
   ]
  },
  {
   "cell_type": "markdown",
   "metadata": {},
   "source": [
    "--------------\n",
    "### Part II: Solving least squares using the SVD\n",
    "Now compute the SVD of $A$:"
   ]
  },
  {
   "cell_type": "code",
   "execution_count": 25,
   "metadata": {},
   "outputs": [],
   "source": [
    "U, sigma, VT = la.svd(A)"
   ]
  },
  {
   "cell_type": "markdown",
   "metadata": {},
   "source": [
    "Make a matrix `Sigma` of the correct size:"
   ]
  },
  {
   "cell_type": "code",
   "execution_count": 26,
   "metadata": {},
   "outputs": [],
   "source": [
    "Sigma = np.zeros(A.shape)\n",
    "Sigma[:4,:4] = np.diag(sigma)"
   ]
  },
  {
   "cell_type": "markdown",
   "metadata": {},
   "source": [
    "And check that we've actually factorized `A`:"
   ]
  },
  {
   "cell_type": "code",
   "execution_count": 27,
   "metadata": {},
   "outputs": [
    {
     "data": {
      "text/plain": [
       "array([[ 0., -0.,  0.,  0.],\n",
       "       [ 0., -0.,  0.,  0.],\n",
       "       [ 0., -0.,  0.,  0.],\n",
       "       [ 0., -0., -0.,  0.],\n",
       "       [ 0., -0., -0.,  0.],\n",
       "       [ 0.,  0.,  0.,  0.]])"
      ]
     },
     "execution_count": 27,
     "metadata": {},
     "output_type": "execute_result"
    }
   ],
   "source": [
    "(U.dot(Sigma).dot(VT) - A).round(4)"
   ]
  },
  {
   "cell_type": "markdown",
   "metadata": {},
   "source": [
    "Now define `Sigma_pinv` as the \"pseudo-\"inverse of `Sigma`, where \"pseudo\" means \"don't divide by zero\":"
   ]
  },
  {
   "cell_type": "code",
   "execution_count": 28,
   "metadata": {},
   "outputs": [
    {
     "data": {
      "text/plain": [
       "array([[ 0.147,  0.   ,  0.   ,  0.   ,  0.   ,  0.   ],\n",
       "       [ 0.   ,  0.624,  0.   ,  0.   ,  0.   ,  0.   ],\n",
       "       [ 0.   ,  0.   ,  1.055,  0.   ,  0.   ,  0.   ],\n",
       "       [ 0.   ,  0.   ,  0.   ,  0.   ,  0.   ,  0.   ]])"
      ]
     },
     "execution_count": 28,
     "metadata": {},
     "output_type": "execute_result"
    }
   ],
   "source": [
    "Sigma_pinv = np.zeros(A.shape).T\n",
    "Sigma_pinv[:3,:3] = np.diag(1/sigma[:3])\n",
    "Sigma_pinv.round(3)"
   ]
  },
  {
   "cell_type": "markdown",
   "metadata": {},
   "source": [
    "Now compute the SVD-based solution for the least-squares problem:"
   ]
  },
  {
   "cell_type": "code",
   "execution_count": 29,
   "metadata": {},
   "outputs": [],
   "source": [
    "x_svd = VT.T.dot(Sigma_pinv).dot(U.T).dot(b)"
   ]
  },
  {
   "cell_type": "code",
   "execution_count": 30,
   "metadata": {},
   "outputs": [
    {
     "data": {
      "text/plain": [
       "2.1267152888030982"
      ]
     },
     "execution_count": 30,
     "metadata": {},
     "output_type": "execute_result"
    }
   ],
   "source": [
    "la.norm(A.dot(x_svd)-b, 2)"
   ]
  },
  {
   "cell_type": "code",
   "execution_count": 31,
   "metadata": {},
   "outputs": [
    {
     "data": {
      "text/plain": [
       "0.77354943014895838"
      ]
     },
     "execution_count": 31,
     "metadata": {},
     "output_type": "execute_result"
    }
   ],
   "source": [
    "la.norm(x_svd)"
   ]
  },
  {
   "cell_type": "markdown",
   "metadata": {},
   "source": [
    "* What do you observe about $\\|\\text{x_svd}\\|_2$ compared to $\\|\\text{x_qr}\\|_2$?\n",
    "* Is $\\|\\text{x_svd}\\|_2$ compared to $\\|\\text{x_qr}\\|_2$?"
   ]
  },
  {
   "cell_type": "markdown",
   "metadata": {},
   "source": [
    " $\\|\\text{x_svd}\\|_2 \\space $ is smaller than $\\space \\|\\text{x_qr}\\|_2$"
   ]
  }
 ],
 "metadata": {
  "kernelspec": {
   "display_name": "Python 3",
   "language": "python",
   "name": "python3"
  },
  "language_info": {
   "codemirror_mode": {
    "name": "ipython",
    "version": 3
   },
   "file_extension": ".py",
   "mimetype": "text/x-python",
   "name": "python",
   "nbconvert_exporter": "python",
   "pygments_lexer": "ipython3",
   "version": "3.8.3"
  },
  "latex_envs": {
   "LaTeX_envs_menu_present": true,
   "autoclose": false,
   "autocomplete": true,
   "bibliofile": "biblio.bib",
   "cite_by": "apalike",
   "current_citInitial": 1,
   "eqLabelWithNumbers": true,
   "eqNumInitial": 1,
   "hotkeys": {
    "equation": "Ctrl-E",
    "itemize": "Ctrl-I"
   },
   "labels_anchors": false,
   "latex_user_defs": false,
   "report_style_numbering": false,
   "user_envs_cfg": false
  },
  "nbTranslate": {
   "displayLangs": [
    "*"
   ],
   "hotkey": "alt-t",
   "langInMainMenu": true,
   "sourceLang": "en",
   "targetLang": "fr",
   "useGoogleTranslate": true
  },
  "toc": {
   "base_numbering": 1,
   "nav_menu": {},
   "number_sections": true,
   "sideBar": true,
   "skip_h1_title": false,
   "title_cell": "Table of Contents",
   "title_sidebar": "Contents",
   "toc_cell": false,
   "toc_position": {},
   "toc_section_display": true,
   "toc_window_display": false
  },
  "varInspector": {
   "cols": {
    "lenName": 16,
    "lenType": 16,
    "lenVar": 40
   },
   "kernels_config": {
    "python": {
     "delete_cmd_postfix": "",
     "delete_cmd_prefix": "del ",
     "library": "var_list.py",
     "varRefreshCmd": "print(var_dic_list())"
    },
    "r": {
     "delete_cmd_postfix": ") ",
     "delete_cmd_prefix": "rm(",
     "library": "var_list.r",
     "varRefreshCmd": "cat(var_dic_list()) "
    }
   },
   "types_to_exclude": [
    "module",
    "function",
    "builtin_function_or_method",
    "instance",
    "_Feature"
   ],
   "window_display": false
  }
 },
 "nbformat": 4,
 "nbformat_minor": 1
}
