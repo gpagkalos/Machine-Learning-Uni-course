{
 "cells": [
  {
   "cell_type": "markdown",
   "metadata": {},
   "source": [
    "# Margin definition\n",
    "Recall that the signed distance to a point $x$ from a hyperplane $\\theta, \\theta_{0}$ is $s d\\left(x, \\theta, \\theta_{0}\\right)=\\frac{\\theta^{T} x+\\theta_{0}}{\\|\\theta\\|}$.\n",
    "\n",
    "\n",
    "\\begin{exercise}\n",
    "\n",
    "\n",
    "You start with a hyperplane $\\theta, \\theta_{0}$ and a point $x$. Suppose a new separator is given, where $\\hat{\\theta}=-\\theta$ and $\\hat{\\theta}_{0}=-\\theta_{0}$.\n",
    "\n",
    "Which of the following is true?\n",
    "\n",
    "- the signed distance changes sign but not magnitude\n",
    "\n",
    "- the signed distance changes magnitude but not sign\n",
    "\n",
    "- the signed distance stays the same \n",
    "\n",
    "- both the sign and the magnitude may change\n",
    "\\end{exercise}"
   ]
  },
  {
   "cell_type": "markdown",
   "metadata": {},
   "source": [
    "Solution: the signed distance changes sign but not magnitude.\n",
    "\n",
    "Explanation: for $-\\theta, -\\theta_{0}\\space \\space ,\\space s d\\left(x, -\\theta, -\\theta_{0}\\right)=\\frac{-\\theta^{T} x-\\theta_{0}}{\\|-\\theta\\|}=-\\frac{\\theta^{T} x+\\theta_{0}}{\\|\\theta\\|}$.\n"
   ]
  },
  {
   "cell_type": "markdown",
   "metadata": {},
   "source": [
    "\n",
    "\\begin{exercise}\n",
    "\n",
    "\n",
    "You start with a hyperplane $\\theta, \\theta_{0}$ and a point $x$. Suppose a new separator is given, where $\\hat{\\theta}=\\theta$ and $\\hat{\\theta}_{0}=-\\theta_{0}$.\n",
    "\n",
    "Which of the following is true?\n",
    "\n",
    "- the signed distance changes sign but not magnitude\n",
    "\n",
    "- the signed distance changes magnitude but not sign\n",
    "\n",
    "- the signed distance stays the same \n",
    "\n",
    "- both the sign and the magnitude may change\n",
    "\\end{exercise}"
   ]
  },
  {
   "cell_type": "markdown",
   "metadata": {},
   "source": [
    "Solution: both the sign and the magnitude may change\n",
    "\n",
    "Explanation:  for $\\theta, -\\theta_{0}\\space \\space ,\\space s d\\left(x, \\theta, -\\theta_{0}\\right)=\\frac{\\theta^{T} x-\\theta_{0}}{\\|\\theta\\|}$\n",
    "\n"
   ]
  },
  {
   "cell_type": "markdown",
   "metadata": {},
   "source": [
    "\n",
    "\\begin{exercise}\n",
    "\n",
    "\n",
    "\n",
    "The margin of labeled point $(x, y)$ with respect to separator $\\theta, \\theta_{0}$ is:\n",
    "$$\n",
    "\\gamma\\left(x, y, \\theta, \\theta_{0}\\right)=\\frac{y\\left(\\theta^{T} x+\\theta_{0}\\right)}{\\|\\theta\\|}\n",
    "$$\n",
    "Let sd stand for $s d\\left(x, \\theta, \\theta_{0}\\right)$, the signed distance from the separator to $x$. Define the margin in terms of sd and $\\mathrm{y}$, the label of $x$. Note that both of these are scalars. Provide an expression in Python syntax.\n",
    "\n",
    "$$\n",
    "\\gamma\\left(x, y, \\theta, \\theta_{0}\\right)=\n",
    "$$\n",
    "\n",
    "\\end{exercise}"
   ]
  },
  {
   "cell_type": "markdown",
   "metadata": {},
   "source": [
    "Solutions: $\\space \\gamma\\left(x, y, \\theta, \\theta_{0}\\right)= y \\cdot s d\\left(x, \\theta, \\theta_{0}\\right)$\n",
    "\n",
    "Explanation: $ \\space s d\\left(x, \\theta, \\theta_{0}\\right)=\\frac{\\theta^{T} x+\\theta_{0}}{\\|\\theta\\|} \\Leftrightarrow y \\cdot s d\\left(x, \\theta, \\theta_{0}\\right)= y \\cdot \\frac{\\theta^{T} x+\\theta_{0}}{\\|\\theta\\|} \\Leftrightarrow   y \\cdot  s d\\left(x, \\theta, \\theta_{0}\\right)= \\gamma\\left(x, y, \\theta, \\theta_{0}\\right)$\n",
    "\n"
   ]
  },
  {
   "cell_type": "markdown",
   "metadata": {},
   "source": [
    "\n",
    "\n",
    "\\begin{exercise}\n",
    "\n",
    "\n",
    "What is the sign of the signed distance when the prediction is incorrect?\n",
    "\n",
    "- positive \n",
    "- negative \n",
    "- could be either\n",
    "\\end{exercise}\n"
   ]
  },
  {
   "cell_type": "markdown",
   "metadata": {},
   "source": [
    "Solution: could be either.\n",
    "\n",
    "Explanation: the prediction depends on the sign of the distance , could be a false negative or false positive.\n"
   ]
  },
  {
   "cell_type": "markdown",
   "metadata": {},
   "source": [
    "\n",
    "\\begin{exercise}\n",
    "\n",
    "What is the sign of the margin when the prediction is incorrect?\n",
    "\n",
    "- positive \n",
    "- negative \n",
    "- could be either\n",
    "\\end{exercise}\n"
   ]
  },
  {
   "cell_type": "markdown",
   "metadata": {},
   "source": [
    "Solution: negative .\n",
    "\n",
    "Explanation: when the prediction is incorrect the actual value y and the prediction value given by the signed distance have opposite signs .\n"
   ]
  },
  {
   "cell_type": "markdown",
   "metadata": {},
   "source": [
    "# Margin practice\n",
    "\n",
    "\\begin{exercise}\n",
    "What are the margins of the labeled points $(x, y)=((3,2),+1),((1,1),-1)$, and $((4,2),-1)$ with respect to the separator defined by $\\theta=(1,1), \\theta_{0}=-4$ ? The situation is illustrated in the figure below.\n",
    "\n",
    "![](margin.png)\n",
    "\\end{exercise}"
   ]
  },
  {
   "cell_type": "markdown",
   "metadata": {},
   "source": [
    "Solution:\n",
    "\n",
    "Explanation: $\\space \\gamma\\left(x, y, \\theta, \\theta_{0}\\right)=\\frac{y\\left(\\theta^{T} x+\\theta_{0}\\right)}{\\|\\theta\\|} \\space$\n",
    "\n",
    "for $\\space (x, y)=((3,2),+1) ,\\space\\space \\gamma\\left(\\begin{bmatrix} 3 \\\\ 2 \\end{bmatrix}, 1,  \\begin{bmatrix} 1 \\\\ 1 \n",
    "\\end{bmatrix}, -4\\right)=\\frac{1 \\cdot \\left(\\begin{bmatrix} 1 & 1 \n",
    "\\end{bmatrix}\\cdot \\begin{bmatrix} 3 \\\\ 2 \\end{bmatrix}-4\\right)}{\\sqrt{1^{2}+1^{2}}}= \\frac{5-4}{\\sqrt{2}}=\\frac{\\sqrt{2}}{2}$\n",
    "\n",
    "for $\\space (x, y)=((1,1),-1) ,\\space\\space \\gamma\\left(\\begin{bmatrix} 1 \\\\ 1 \\end{bmatrix}, -1,  \\begin{bmatrix} 1 \\\\ 1 \n",
    "\\end{bmatrix}, -4\\right)=\\frac{-1 \\cdot \\left(\\begin{bmatrix} 1 & 1 \n",
    "\\end{bmatrix}\\cdot \\begin{bmatrix} 1 \\\\ 1 \\end{bmatrix}-4\\right)}{\\sqrt{1^{2}+1^{2}}}= \\frac{4-2}{\\sqrt{2}}=\\sqrt{2}$\n",
    "\n",
    "for $\\space (x, y)=((4,2),-1) ,\\space\\space \\gamma\\left(\\begin{bmatrix} 4 \\\\ 2 \\end{bmatrix}, -1,  \\begin{bmatrix} 1 \\\\ 1 \n",
    "\\end{bmatrix}, -4\\right)=\\frac{-1 \\cdot \\left(\\begin{bmatrix} 1 & 1 \n",
    "\\end{bmatrix}\\cdot \\begin{bmatrix} 4 \\\\ 2 \\end{bmatrix}-4\\right)}{\\sqrt{1^{2}+1^{2}}}= \\frac{4-6}{\\sqrt{2}}=-\\sqrt{2}$\n"
   ]
  },
  {
   "cell_type": "markdown",
   "metadata": {},
   "source": [
    "# Max Margin Separator\n",
    "\n",
    "\\begin{exercise}\n",
    "\n",
    "Consider the four points and separator:\n",
    "$$\n",
    "\\begin{aligned}\n",
    "&\\text { data }=\\text { np. array }([[1,1,3,3],[3,1,4,2]]) \\\\\n",
    "&\\text { labels }=n p \\cdot \\operatorname{array}([[-1,-1,1,1]]) \\\\\n",
    "&\\text { th }=\\mathrm{np} \\cdot \\operatorname{array}([[0,1]]) . \\mathrm{T} \\\\\n",
    "&\\text { tho }=-3\n",
    "\\end{aligned}\n",
    "$$\n",
    "The situation is shown below:\n",
    "\n",
    "![](sep1.png)\n",
    "\n",
    "Enter the four margins in order as a Python list of four numbers.\n",
    "\\end{exercise}\n"
   ]
  },
  {
   "cell_type": "code",
   "execution_count": 1,
   "metadata": {},
   "outputs": [],
   "source": [
    "import numpy as np\n",
    "data = np.array([[1, 1, 3, 3],[3, 1, 4, 2]])\n",
    "labels = np.array([[-1, -1, 1, 1]])\n",
    "th = np.array([[0, 1]]).T\n",
    "th0 = -3"
   ]
  },
  {
   "cell_type": "markdown",
   "metadata": {},
   "source": [
    "Solution: \n",
    "\n",
    "Explanation:\n",
    "\n"
   ]
  },
  {
   "cell_type": "code",
   "execution_count": 19,
   "metadata": {},
   "outputs": [
    {
     "name": "stdout",
     "output_type": "stream",
     "text": [
      "signed distance : [[ 0. -2.  1. -1.]]\n",
      "margin : [[-0.  2.  1. -1.]]\n"
     ]
    }
   ],
   "source": [
    "#print(th)\n",
    "sd=(np.dot(th.T,data)+th0)/np.linalg.norm(th) # since the norm of [0 1] = 1\n",
    "print('signed distance :',sd)\n",
    "margin=np.multiply(labels,sd)\n",
    "print('margin :', margin)"
   ]
  },
  {
   "cell_type": "markdown",
   "metadata": {},
   "source": [
    "\\begin{exercise}\n",
    "\n",
    "A maximum margin separator is a separator that maximizes the minimum margin between that separator and all points in the dataset.\n",
    "Enter $\\theta$ and $\\theta_{0}$ for a maximum margin separator as a Python list of three numbers.\n",
    "Remember the equation of the separator is $wx+b=0$.\n",
    "\\end{exercise}"
   ]
  },
  {
   "cell_type": "markdown",
   "metadata": {},
   "source": [
    "Solution: \n",
    "    \n",
    "Explanation:\n",
    "    \n"
   ]
  },
  {
   "cell_type": "code",
   "execution_count": 1,
   "metadata": {},
   "outputs": [],
   "source": [
    "# creating a random maximum margin separator\n",
    "separator=[0,1,-3]"
   ]
  },
  {
   "cell_type": "markdown",
   "metadata": {},
   "source": [
    "\\begin{exercise}\n",
    "\n",
    "If you scaled this separator by a positive constant $k$ (i.e., replace $\\theta$ by $k \\theta_{\\text {, and }} \\theta_{0}$ by $k \\theta_{0}$ ), would it still be a maximum margin separator?\n",
    "\n",
    "yes \n",
    "\n",
    "no \n",
    "\n",
    "Justify your answer\n",
    "\\end{exercise}"
   ]
  },
  {
   "cell_type": "markdown",
   "metadata": {},
   "source": [
    "Solution: yes \n",
    "\n",
    "Explanation: $\\space \\theta^{T} x+\\theta_{0}=0 \\Leftrightarrow k\\theta^{T} x+k\\theta_{0}=0$\n",
    "\n"
   ]
  },
  {
   "cell_type": "markdown",
   "metadata": {},
   "source": [
    "Enraged by Gossip Girl's most recent social media post, John and George team up to expose Gossip Girl's secret identity. They determine that the suspects consist of people who attended the same party as Gossip Girl.\n",
    "\n",
    "John and George know of four ATTENDEES and four NO-SHOWS. The GPS locations of the four ATTENDEES ( $+)$ and four NO-SHOWS (-) are plotted below.\n",
    "\n",
    "![](https://cdn.mathpix.com/snip/images/hP9eR7pYr6sU1ok-SwxPg2aPmSbjvD-53lWe1-09hgQ.original.fullsize.png)\n",
    "\n",
    "\\begin{exercise}\n",
    "\n",
    "Which of the following kernel functions can John and George use to perfectly classify all people as ATTENDEE or NO-SHOW in the above dataset? Circle all that apply or circle NONE OF THESE if none apply.\n",
    "\n",
    "LINEAR\n",
    "\n",
    "QUADRATIC\n",
    "\n",
    "CUBIC\n",
    "\n",
    "RADIAL BASIS\n",
    "\n",
    "NONE OF THESE\n",
    "\\end{exercise}"
   ]
  },
  {
   "cell_type": "markdown",
   "metadata": {},
   "source": [
    "your answer: quadratic and radial basis should work best"
   ]
  },
  {
   "cell_type": "markdown",
   "metadata": {},
   "source": [
    "\\begin{exercise}\n",
    "John and George apply a polar transformation on the data, $\\varphi(<x, y>)=\\langle r, \\theta>$. \n",
    "\n",
    "Below is a graph of this transformation. \n",
    "\n",
    "- Describe the SVM decision boundary.\n",
    "- Describe the SVM gutters lines that correspond to +/-.\n",
    "- Indicate the support vectors.\n",
    "\n",
    "![](kernel1.png)\n",
    "\\end{exercise}"
   ]
  },
  {
   "cell_type": "markdown",
   "metadata": {},
   "source": [
    "your answer: the orthogonal line at 2.5 in the r axxis is the best decision boundary , the gutters lines that correspond to +/- are the orthogonal lines at 2 and 3 respectively , support vectors : D , L , M"
   ]
  },
  {
   "cell_type": "markdown",
   "metadata": {},
   "source": [
    "\n",
    "\\begin{exercise}\n",
    "For your decision boundary, calculate the values of the normal vector $\\overrightarrow{\\mathbf{w}}$ and the offset $\\boldsymbol{b}$, given the boundary equation $\\overrightarrow{\\mathbf{w}} \\cdot \\overrightarrow{\\mathbf{x}}+\\boldsymbol{b}=\\mathbf{0}$. The classifier must produce an output of $+\\mathbf{1}$ for ATTENDEES (+) and an output of $-1$ for NO-SHOWS (-).\n",
    "\n",
    "Indicate the vector $\\overrightarrow{\\mathbf{W}}=   $ and  $b=  $ \n",
    "\n",
    "\\end{exercise}\n"
   ]
  },
  {
   "cell_type": "markdown",
   "metadata": {},
   "source": [
    "Your Answer: \n"
   ]
  },
  {
   "cell_type": "markdown",
   "metadata": {},
   "source": [
    "\\begin{exercise}\n",
    "John and George give you the GPS locations in polar coordinates of three people. For each of the three locations listed below, circle the ONE best answer indicating how the SVM would classify the person at that location.\n",
    "$\\begin{array}{llll}(\\mathbf{r}=\\mathbf{1}, \\boldsymbol{\\theta}=\\boldsymbol{\\pi}): & \\text { ATTENDEE }(+) & \\text { NO-SHOW }(-) & \\text { CAN'T TELL } \\\\ (\\mathbf{r}=\\mathbf{2 . 5}, \\boldsymbol{\\theta}=\\boldsymbol{\\pi} / \\mathbf{2}): & \\text { ATTENDEE }(+) & \\text { NO-SHOW }(-) & \\text { CAN'T TELL } \\\\ (\\mathbf{r}=\\mathbf{3}, \\boldsymbol{\\theta}=\\mathbf{2} \\boldsymbol{\\pi}): & \\text { ATTENDEE }(+) & \\text { NO-SHOW }(-) & \\text { CAN'T TELL }\\end{array}$\n",
    "\\end{exercise}"
   ]
  },
  {
   "cell_type": "markdown",
   "metadata": {},
   "source": [
    "your answer here:"
   ]
  }
 ],
 "metadata": {
  "kernelspec": {
   "display_name": "Python 3",
   "language": "python",
   "name": "python3"
  },
  "language_info": {
   "codemirror_mode": {
    "name": "ipython",
    "version": 3
   },
   "file_extension": ".py",
   "mimetype": "text/x-python",
   "name": "python",
   "nbconvert_exporter": "python",
   "pygments_lexer": "ipython3",
   "version": "3.8.3"
  },
  "latex_envs": {
   "LaTeX_envs_menu_present": true,
   "autoclose": false,
   "autocomplete": true,
   "bibliofile": "biblio.bib",
   "cite_by": "apalike",
   "current_citInitial": 1,
   "eqLabelWithNumbers": true,
   "eqNumInitial": 1,
   "hotkeys": {
    "equation": "Ctrl-E",
    "itemize": "Ctrl-I"
   },
   "labels_anchors": false,
   "latex_user_defs": false,
   "report_style_numbering": false,
   "user_envs_cfg": false
  },
  "nbTranslate": {
   "displayLangs": [
    "*"
   ],
   "hotkey": "alt-t",
   "langInMainMenu": true,
   "sourceLang": "en",
   "targetLang": "fr",
   "useGoogleTranslate": true
  },
  "toc": {
   "base_numbering": 1,
   "nav_menu": {},
   "number_sections": true,
   "sideBar": true,
   "skip_h1_title": false,
   "title_cell": "Table of Contents",
   "title_sidebar": "Contents",
   "toc_cell": false,
   "toc_position": {},
   "toc_section_display": true,
   "toc_window_display": false
  }
 },
 "nbformat": 4,
 "nbformat_minor": 5
}
