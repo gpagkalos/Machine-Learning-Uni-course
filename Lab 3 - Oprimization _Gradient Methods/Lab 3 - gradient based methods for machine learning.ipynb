{
 "cells": [
  {
   "cell_type": "markdown",
   "metadata": {},
   "source": [
    "# Gradient based methods for machine learning "
   ]
  },
  {
   "cell_type": "markdown",
   "metadata": {},
   "source": [
    "\\begin{exercise}\n",
    "Apply the following gradient based algorithms to estimate the minimum of the function \n",
    "\n",
    "    def Rosen(x,a=10):\n",
    "        return (1-x[0])**2 + a*(x[1]-x[0]**2)**2\n",
    "    def dRosen(x,a=10):\n",
    "        return np.array([-2.0*(1.0-x[0]) - 2.0*a*(x[1]-x[0]**2)*2.0*x[0],2.0*a*(x[1]-x[0]**2)])\n",
    "by following the example below. Given the same starting point evaluate the methods in terms of the number of iterations they take to compute an estimate to the minimum. Study the book \"optimization for machine learning\"\n",
    "\\end{exercise}\n"
   ]
  },
  {
   "cell_type": "markdown",
   "metadata": {},
   "source": [
    "\\begin{exercise}\n",
    "Solve the least squares problem with quadratic polynomials given in online lab3 by applying the following gradient based methods and evaluate them with respect to accuracy achieved and the number of iterations required to achieve this accuracy. \n",
    "\n",
    "\\end{exercise}\n"
   ]
  },
  {
   "cell_type": "markdown",
   "metadata": {},
   "source": [
    "# Example of finding the minimum of a function with the gradient based methods introduced in class"
   ]
  },
  {
   "cell_type": "code",
   "execution_count": 1,
   "metadata": {},
   "outputs": [],
   "source": [
    "import os\n",
    "import time\n",
    "\n",
    "import numpy as np\n",
    "import matplotlib.pyplot as plt\n",
    "%matplotlib inline\n",
    "\n",
    "from mpl_toolkits.mplot3d import Axes3D\n",
    "from matplotlib.colors import LogNorm\n",
    "from matplotlib import animation\n",
    "from IPython.display import HTML\n",
    "\n",
    "from itertools import zip_longest"
   ]
  },
  {
   "cell_type": "markdown",
   "metadata": {},
   "source": [
    "\\begin{example}\n",
    "Find the minimum of $f(x,y) = x^2 + 10y^2$\n",
    "\n",
    "\\end{example}\n"
   ]
  },
  {
   "cell_type": "code",
   "execution_count": 2,
   "metadata": {},
   "outputs": [
    {
     "data": {
      "image/png": "[encoded data removed]",
      "text/plain": [
       "<Figure size 720x720 with 1 Axes>"
      ]
     },
     "metadata": {
      "needs_background": "light"
     },
     "output_type": "display_data"
    }
   ],
   "source": [
    "# plots the function\n",
    "xi = np.linspace(-8, 8, 1000)\n",
    "yi = np.linspace(-8, 8, 1000)\n",
    "X,Y = np.meshgrid(xi, yi)\n",
    "Z = X * X + 10 * Y * Y\n",
    "\n",
    "def contour(X,Y,Z, arr = None):\n",
    "    plt.figure(figsize=(10, 10))\n",
    "    xx = X.flatten()\n",
    "    yy = Y.flatten()\n",
    "    zz = Z.flatten()\n",
    "    plt.contourf(X, Y, Z, 20, cmap=plt.get_cmap('viridis'))\n",
    "    if arr is not None:\n",
    "        arr = np.array(arr)\n",
    "        for i in range(len(arr) - 1):\n",
    "            plt.xlim(-8, 8)\n",
    "            plt.ylim(-8, 8)\n",
    "            plt.plot(arr[i:i+2,0],arr[i:i+2,1], color='white')\n",
    "        \n",
    "contour(X,Y,Z)\n"
   ]
  },
  {
   "cell_type": "code",
   "execution_count": 3,
   "metadata": {},
   "outputs": [
    {
     "data": {
      "text/plain": [
       "array([ 14, 120])"
      ]
     },
     "execution_count": 3,
     "metadata": {},
     "output_type": "execute_result"
    }
   ],
   "source": [
    "# defines the function and its gradient\n",
    "def f(x):\n",
    "    return x[0]*x[0] + 10.*x[1]*x[1]\n",
    "x0=[7,6]\n",
    "f(x0)\n",
    "def gradient(x):\n",
    "    return np.array([2*x[0],20*x[1]])\n",
    "gradient(x0)"
   ]
  },
  {
   "cell_type": "markdown",
   "metadata": {},
   "source": [
    "# Read the block describing the following gradient based methods\n",
    "\n",
    "https://tiddler.github.io/optimizers/"
   ]
  },
  {
   "cell_type": "code",
   "execution_count": 4,
   "metadata": {},
   "outputs": [],
   "source": [
    "def gd(x_start, step, gradient, iteration=50):\n",
    "    x = np.array(x_start, dtype='float64')\n",
    "    passing_dot = [x.copy()]\n",
    "    for _ in range(iteration):\n",
    "        grad = gradient(x)\n",
    "        x -= grad * step\n",
    "        passing_dot.append(x.copy())\n",
    "        if abs(sum(grad)) < 1e-6:\n",
    "            break;\n",
    "    return x, passing_dot\n"
   ]
  },
  {
   "cell_type": "code",
   "execution_count": 5,
   "metadata": {},
   "outputs": [
    {
     "name": "stdout",
     "output_type": "stream",
     "text": [
      "[4.62325045e-07 8.49977943e-90] 2.137444476588915e-13 [9.24650091e-07 1.69995589e-88]\n"
     ]
    }
   ],
   "source": [
    "x_start = [7,6]\n",
    "step = 0.02\n",
    "out = gd(x_start, step, gradient, iteration=1000)\n",
    "\n",
    "print(out[0],f(out[0]),gradient(out[0]))"
   ]
  },
  {
   "cell_type": "code",
   "execution_count": 6,
   "metadata": {},
   "outputs": [],
   "source": [
    "def momentum(x_start, step, g, discount=0.7, iteration=50):\n",
    "    x = np.array(x_start, dtype='float64')\n",
    "    passing_dot = [x.copy()]\n",
    "    pre_grad = np.zeros_like(x)\n",
    "    for _ in range(iteration):\n",
    "        grad = g(x)\n",
    "        pre_grad = pre_grad * discount + grad\n",
    "        x -= pre_grad * step\n",
    "        passing_dot.append(x.copy())\n",
    "        if abs(sum(grad)) < 1e-6:\n",
    "            break;\n",
    "    return x, passing_dot\n"
   ]
  },
  {
   "cell_type": "code",
   "execution_count": 7,
   "metadata": {},
   "outputs": [
    {
     "name": "stdout",
     "output_type": "stream",
     "text": [
      "[-3.83577479e-07  3.91212545e-07] 1.6776042363479544e-12 [-7.67154959e-07  7.82425090e-06]\n"
     ]
    }
   ],
   "source": [
    "x_start = [7,6]\n",
    "step = 0.02\n",
    "out = momentum(x_start, step, gradient, discount=0.7, iteration=100)\n",
    "\n",
    "print(out[0],f(out[0]),gradient(out[0]))"
   ]
  },
  {
   "cell_type": "code",
   "execution_count": 8,
   "metadata": {},
   "outputs": [],
   "source": [
    "def nesterov(x_start, step, gradient, discount=0.7, iteration=50):\n",
    "    x = np.array(x_start, dtype='float64')\n",
    "    passing_dot = [x.copy()]\n",
    "    pre_grad = np.zeros_like(x)\n",
    "    for _ in range(iteration):\n",
    "        x_future = x - step * discount * pre_grad\n",
    "        grad = gradient(x_future)\n",
    "        pre_grad = pre_grad * 0.7 + grad \n",
    "        x -= pre_grad * step\n",
    "        passing_dot.append(x.copy())\n",
    "        if abs(sum(grad)) < 1e-6:\n",
    "            break;\n",
    "    return x, passing_dot\n"
   ]
  },
  {
   "cell_type": "code",
   "execution_count": 9,
   "metadata": {},
   "outputs": [
    {
     "name": "stdout",
     "output_type": "stream",
     "text": [
      "[4.77156097e-07 5.79891898e-16] 2.276779404442269e-13 [9.54312193e-07 1.15978380e-14]\n"
     ]
    }
   ],
   "source": [
    "x_start = [7,6]\n",
    "step = 0.02\n",
    "out = nesterov(x_start, step, gradient, discount=0.7, iteration=100)\n",
    "\n",
    "print(out[0],f(out[0]),gradient(out[0]))"
   ]
  },
  {
   "cell_type": "code",
   "execution_count": 10,
   "metadata": {},
   "outputs": [],
   "source": [
    "def adagrad(x_start, step, gradient, delta=1e-8, iteration=50):\n",
    "    x = np.array(x_start, dtype='float64')\n",
    "    passing_dot = [x.copy()]\n",
    "    sum_grad = np.zeros_like(x)\n",
    "    for _ in range(iteration):\n",
    "        grad = gradient(x)\n",
    "        sum_grad += grad * grad\n",
    "        x -= step * grad / (np.sqrt(sum_grad) + delta)\n",
    "        passing_dot.append(x.copy())\n",
    "        if abs(sum(grad)) < 1e-6:\n",
    "            break;\n",
    "    return x, passing_dot\n"
   ]
  },
  {
   "cell_type": "code",
   "execution_count": 11,
   "metadata": {},
   "outputs": [
    {
     "name": "stdout",
     "output_type": "stream",
     "text": [
      "[6.19602115e-08 5.87289965e-12] 3.83906815009237e-15 [1.23920423e-07 1.17457993e-10]\n"
     ]
    }
   ],
   "source": [
    "x_start = [7,6]\n",
    "step = 5\n",
    "out = adagrad(x_start, step, gradient, delta=1e-8, iteration=50)\n",
    "\n",
    "print(out[0],f(out[0]),gradient(out[0]))"
   ]
  },
  {
   "cell_type": "code",
   "execution_count": 12,
   "metadata": {},
   "outputs": [],
   "source": [
    "def adadelta(x_start, step, gradient, momentum=0.9, delta=1e-1, iteration=50):\n",
    "    x = np.array(x_start, dtype='float64')\n",
    "    sum_grad = np.zeros_like(x)\n",
    "    sum_diff = np.zeros_like(x)\n",
    "    passing_dot = [x.copy()]\n",
    "    for _ in range(iteration):\n",
    "        grad = gradient(x)\n",
    "        sum_grad = momentum * sum_grad + (1 - momentum) * grad * grad\n",
    "        diff = np.sqrt((sum_diff + delta) / (sum_grad + delta)) * grad\n",
    "        x -= step * diff\n",
    "        sum_diff = momentum * sum_diff + (1 - momentum) * (diff * diff)\n",
    "        passing_dot.append(x.copy())\n",
    "        if abs(sum(grad)) < 1e-6:\n",
    "            break;\n",
    "    return x, passing_dot\n"
   ]
  },
  {
   "cell_type": "code",
   "execution_count": 13,
   "metadata": {},
   "outputs": [
    {
     "name": "stdout",
     "output_type": "stream",
     "text": [
      "[8.17010809e-08 1.41402616e-11] 6.675068624999616e-15 [1.63402162e-07 2.82805233e-10]\n"
     ]
    }
   ],
   "source": [
    "x_start = [7,6]\n",
    "step = 2\n",
    "out = adadelta(x_start, step, gradient, momentum=0.9, delta=1e-1, iteration=50)\n",
    "\n",
    "print(out[0],f(out[0]),gradient(out[0]))"
   ]
  },
  {
   "cell_type": "code",
   "execution_count": 14,
   "metadata": {},
   "outputs": [],
   "source": [
    "def rmsprop(x_start, step, gradient, rms_decay=0.9, delta=1e-8, iteration=50):\n",
    "    x = np.array(x_start, dtype='float64')\n",
    "    sum_grad = np.zeros_like(x)\n",
    "    passing_dot = [x.copy()]\n",
    "    for _ in range(iteration):\n",
    "        grad = gradient(x)\n",
    "        sum_grad = rms_decay * sum_grad + (1 - rms_decay) * grad * grad\n",
    "        x -= step * grad / (np.sqrt(sum_grad) + delta)\n",
    "        passing_dot.append(x.copy())        \n",
    "        if abs(sum(grad)) < 1e-6:\n",
    "            break;\n",
    "    return x, passing_dot\n"
   ]
  },
  {
   "cell_type": "code",
   "execution_count": 15,
   "metadata": {},
   "outputs": [
    {
     "name": "stdout",
     "output_type": "stream",
     "text": [
      "[5.06021772e-09 5.02010143e-14] 2.560580341366388e-17 [1.01204354e-08 1.00402029e-12]\n"
     ]
    }
   ],
   "source": [
    "x_start = [7,6]\n",
    "step = 1\n",
    "out = rmsprop(x_start, step, gradient, rms_decay=0.9, delta=1e-8, iteration=50)\n",
    "\n",
    "print(out[0],f(out[0]),gradient(out[0]))"
   ]
  },
  {
   "cell_type": "code",
   "execution_count": 20,
   "metadata": {},
   "outputs": [],
   "source": [
    "# gradient descent algorithm with adam\n",
    "def adam(objective, derivative, x_start, n_iter, alpha, beta1, beta2, eps=1e-8):\n",
    "    # generate an initial point\n",
    "    x = np.array(x_start, dtype='float64')\n",
    "    #x = bounds[:, 0] + rand(len(bounds)) * (bounds[:, 1] - bounds[:, 0])\n",
    "    score = objective(x)\n",
    "    # initialize first and second moments\n",
    "    m = [0.0 for _ in range(x.shape[0])]\n",
    "    v = [0.0 for _ in range(x.shape[0])]\n",
    "    # run the gradient descent updates\n",
    "    for t in range(n_iter):\n",
    "        # calculate gradient g(t)\n",
    "        g = derivative(x)\n",
    "        # build a solution one variable at a time\n",
    "        for i in range(x.shape[0]):\n",
    "            # m(t) = beta1 * m(t-1) + (1 - beta1) * g(t)\n",
    "            m[i] = beta1 * m[i] + (1.0 - beta1) * g[i]\n",
    "            # v(t) = beta2 * v(t-1) + (1 - beta2) * g(t)^2\n",
    "            v[i] = beta2 * v[i] + (1.0 - beta2) * g[i]**2\n",
    "            # mhat(t) = m(t) / (1 - beta1(t))\n",
    "            mhat = m[i] / (1.0 - beta1**(t+1))\n",
    "            # vhat(t) = v(t) / (1 - beta2(t))\n",
    "            vhat = v[i] / (1.0 - beta2**(t+1))\n",
    "            # x(t) = x(t-1) - alpha * mhat(t) / (sqrt(vhat(t)) + eps)\n",
    "            x[i] = x[i] - alpha * mhat / (sqrt(vhat) + eps)\n",
    "        # evaluate candidate point\n",
    "        score = objective(x)\n",
    "        # report progress\n",
    "        #print('>%d f(%s) = %.5f' % (t, x, score))\n",
    "    return [x, score]"
   ]
  },
  {
   "cell_type": "code",
   "execution_count": 27,
   "metadata": {},
   "outputs": [
    {
     "name": "stdout",
     "output_type": "stream",
     "text": [
      "Done!\n",
      "f([ 0.00567462 -0.00184567]) = 0.000066\n"
     ]
    }
   ],
   "source": [
    "from numpy import asarray\n",
    "from numpy import arange\n",
    "from math import sqrt\n",
    "from numpy import asarray\n",
    "from numpy.random import rand\n",
    "from numpy.random import seed\n",
    "...\n",
    "# seed the pseudo random number generator\n",
    "\n",
    "# define range for input\n",
    "#bounds = np.asarray([[-1.0, 1.0], [-1.0, 1.0]])\n",
    "x_start = [7,6]\n",
    "# define the total iterations\n",
    "n_iter = 100\n",
    "# steps size\n",
    "alpha = 2\n",
    "# factor for average gradient\n",
    "beta1 = 0.88\n",
    "# factor for average squared gradient\n",
    "beta2 = 0.999\n",
    "# perform the gradient descent search with adam\n",
    "best, score = adam(f, gradient, x_start, n_iter, alpha, beta1, beta2)\n",
    "print('Done!')\n",
    "print('f(%s) = %f' % (best, score))"
   ]
  }
 ],
 "metadata": {
  "kernelspec": {
   "display_name": "Python 3",
   "language": "python",
   "name": "python3"
  },
  "language_info": {
   "codemirror_mode": {
    "name": "ipython",
    "version": 3
   },
   "file_extension": ".py",
   "mimetype": "text/x-python",
   "name": "python",
   "nbconvert_exporter": "python",
   "pygments_lexer": "ipython3",
   "version": "3.8.3"
  },
  "latex_envs": {
   "LaTeX_envs_menu_present": true,
   "autoclose": false,
   "autocomplete": true,
   "bibliofile": "biblio.bib",
   "cite_by": "apalike",
   "current_citInitial": 1,
   "eqLabelWithNumbers": true,
   "eqNumInitial": 1,
   "hotkeys": {
    "equation": "Ctrl-E",
    "itemize": "Ctrl-I"
   },
   "labels_anchors": false,
   "latex_user_defs": false,
   "report_style_numbering": false,
   "user_envs_cfg": false
  },
  "nbTranslate": {
   "displayLangs": [
    "*"
   ],
   "hotkey": "alt-t",
   "langInMainMenu": true,
   "sourceLang": "en",
   "targetLang": "fr",
   "useGoogleTranslate": true
  },
  "toc": {
   "base_numbering": 1,
   "nav_menu": {},
   "number_sections": true,
   "sideBar": true,
   "skip_h1_title": false,
   "title_cell": "Table of Contents",
   "title_sidebar": "Contents",
   "toc_cell": false,
   "toc_position": {},
   "toc_section_display": true,
   "toc_window_display": false
  }
 },
 "nbformat": 4,
 "nbformat_minor": 5
}
